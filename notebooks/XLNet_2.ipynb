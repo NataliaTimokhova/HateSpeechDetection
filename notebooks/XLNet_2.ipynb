{
 "cells": [
  {
   "cell_type": "code",
   "execution_count": 1,
   "id": "85864167-a826-415f-9d63-dad9750c4d17",
   "metadata": {},
   "outputs": [],
   "source": [
    "# Core libraries\n",
    "import os, sys, random\n",
    "from pathlib import Path\n",
    "import pandas as pd\n",
    "import numpy as np\n",
    "import torch\n",
    "from torch.utils.data import DataLoader\n",
    "\n",
    "# HF tokenizer only (no Trainer here)\n",
    "from transformers import AutoTokenizer\n",
    "\n",
    "# Sk-learn metrics for confusion matrix later\n",
    "from sklearn.metrics import confusion_matrix\n",
    "import seaborn as sns\n",
    "import matplotlib.pyplot as plt\n",
    "import wandb"
   ]
  },
  {
   "cell_type": "code",
   "execution_count": 2,
   "id": "cd8501c5-1add-413f-acaa-e041b239b612",
   "metadata": {},
   "outputs": [
    {
     "name": "stdout",
     "output_type": "stream",
     "text": [
      "Device: cuda\n"
     ]
    }
   ],
   "source": [
    "# --------------------------------------------------\n",
    "#  Project-specific paths and helper modules\n",
    "# --------------------------------------------------\n",
    "project_dir = Path().resolve().parent          # <repo_root>/\n",
    "src_dir     = project_dir / \"src\"\n",
    "sys.path.append(str(src_dir))\n",
    "\n",
    "try:\n",
    "    from paths import DATA_CLEANED, DATA_PROCESSED\n",
    "except ModuleNotFoundError:\n",
    "    DATA_CLEANED   = project_dir / \"data\" / \"cleaned\"\n",
    "    DATA_PROCESSED = project_dir / \"data\" / \"processed\"\n",
    "\n",
    "# helper_functions & models from your repo\n",
    "from helper_functions import (\n",
    "    HateSpeechDataset,\n",
    "    train_model,\n",
    "    test_model,\n",
    "    get_class_distribution,\n",
    "    oversample_dataset,\n",
    "    undersample_dataset\n",
    ")\n",
    "from models import BaseCNNClassifier\n",
    "\n",
    "device = torch.device(\"cuda\" if torch.cuda.is_available() else \"cpu\")\n",
    "print(\"Device:\", device)"
   ]
  },
  {
   "cell_type": "code",
   "execution_count": 3,
   "id": "201bc5ae-7e83-4293-af03-cfb562b96b05",
   "metadata": {},
   "outputs": [
    {
     "name": "stdout",
     "output_type": "stream",
     "text": [
      "Class distribution: {1: 2513, 0: 1583}\n"
     ]
    }
   ],
   "source": [
    "model_name = \"xlnet-base-cased\"\n",
    "tokenizer   = AutoTokenizer.from_pretrained(model_name)\n",
    "\n",
    "label_col = \"task_1\"\n",
    "\n",
    "# cleaned TSV files\n",
    "train_path = DATA_CLEANED / \"hasoc_2019_en_train_cleaned.tsv\"\n",
    "test_path  = DATA_CLEANED / \"hasoc_2019_en_test_cleaned.tsv\"\n",
    "\n",
    "df_train_full = pd.read_csv(train_path, sep=\"\\t\")\n",
    "df_test       = pd.read_csv(test_path,  sep=\"\\t\")\n",
    "\n",
    "# stratified split 70 / 30\n",
    "from sklearn.model_selection import train_test_split\n",
    "train_df, val_df = train_test_split(\n",
    "    df_train_full,\n",
    "    test_size=0.30,\n",
    "    random_state=42,\n",
    "    stratify=df_train_full[label_col]\n",
    ")\n",
    "\n",
    "# map HOF / NOT → 1 / 0\n",
    "label_list = sorted(train_df[label_col].unique())\n",
    "label_map  = {lab: idx for idx, lab in enumerate(label_list)}\n",
    "for split in (train_df, val_df, df_test):\n",
    "    split[label_col] = split[label_col].map(label_map)\n",
    "\n",
    "print(\"Class distribution:\", get_class_distribution(train_df, label_col))\n"
   ]
  },
  {
   "cell_type": "code",
   "execution_count": 4,
   "id": "589e216b-b258-46be-8d9e-ccc6a60e09ba",
   "metadata": {},
   "outputs": [],
   "source": [
    "imbalance_mode = \"class_weighting\"   # options: 'class_weighting', 'oversampling', 'undersampling'\n",
    "\n",
    "if imbalance_mode == \"oversampling\":\n",
    "    train_df = oversample_dataset(train_df, label_col)\n",
    "elif imbalance_mode == \"undersampling\":\n",
    "    train_df = undersample_dataset(train_df, label_col)\n"
   ]
  },
  {
   "cell_type": "code",
   "execution_count": 5,
   "id": "c6c195df-1184-4c08-b176-1092b4e5cdd6",
   "metadata": {},
   "outputs": [],
   "source": [
    "# Build datasets with a longer maximum length\n",
    "train_ds = HateSpeechDataset(train_df, tokenizer, label=label_col, max_len=256)\n",
    "val_ds   = HateSpeechDataset(val_df,   tokenizer, label=label_col, max_len=256)\n",
    "test_ds  = HateSpeechDataset(df_test,  tokenizer, label=label_col, max_len=256)\n",
    "\n",
    "train_loader = DataLoader(train_ds, batch_size=16, shuffle=True)\n",
    "val_loader   = DataLoader(val_ds,   batch_size=16)\n",
    "test_loader  = DataLoader(test_ds,  batch_size=32)\n"
   ]
  },
  {
   "cell_type": "code",
   "execution_count": 6,
   "id": "a7193e96-23c4-4ac9-ad07-fcd820fb1d37",
   "metadata": {},
   "outputs": [],
   "source": [
    "from sklearn.utils.class_weight import compute_class_weight\n",
    "\n",
    "class_weights = compute_class_weight(\n",
    "    class_weight=\"balanced\",\n",
    "    classes=np.unique(train_df[label_col]),\n",
    "    y=train_df[label_col]\n",
    ")\n",
    "class_weights_tensor = torch.tensor(class_weights, dtype=torch.float).to(device)\n"
   ]
  },
  {
   "cell_type": "code",
   "execution_count": 7,
   "id": "83228afc-fa09-4687-81f0-db3b06962b5f",
   "metadata": {},
   "outputs": [
    {
     "name": "stderr",
     "output_type": "stream",
     "text": [
      "2025-05-21 08:22:47.211494: I tensorflow/core/util/port.cc:153] oneDNN custom operations are on. You may see slightly different numerical results due to floating-point round-off errors from different computation orders. To turn them off, set the environment variable `TF_ENABLE_ONEDNN_OPTS=0`.\n",
      "2025-05-21 08:22:47.228060: E external/local_xla/xla/stream_executor/cuda/cuda_fft.cc:467] Unable to register cuFFT factory: Attempting to register factory for plugin cuFFT when one has already been registered\n",
      "WARNING: All log messages before absl::InitializeLog() is called are written to STDERR\n",
      "E0000 00:00:1747808567.248338  127212 cuda_dnn.cc:8579] Unable to register cuDNN factory: Attempting to register factory for plugin cuDNN when one has already been registered\n",
      "E0000 00:00:1747808567.254672  127212 cuda_blas.cc:1407] Unable to register cuBLAS factory: Attempting to register factory for plugin cuBLAS when one has already been registered\n",
      "W0000 00:00:1747808567.269348  127212 computation_placer.cc:177] computation placer already registered. Please check linkage and avoid linking the same target more than once.\n",
      "W0000 00:00:1747808567.269364  127212 computation_placer.cc:177] computation placer already registered. Please check linkage and avoid linking the same target more than once.\n",
      "W0000 00:00:1747808567.269366  127212 computation_placer.cc:177] computation placer already registered. Please check linkage and avoid linking the same target more than once.\n",
      "W0000 00:00:1747808567.269368  127212 computation_placer.cc:177] computation placer already registered. Please check linkage and avoid linking the same target more than once.\n",
      "2025-05-21 08:22:47.274304: I tensorflow/core/platform/cpu_feature_guard.cc:210] This TensorFlow binary is optimized to use available CPU instructions in performance-critical operations.\n",
      "To enable the following instructions: AVX2 AVX512F AVX512_VNNI FMA, in other operations, rebuild TensorFlow with the appropriate compiler flags.\n"
     ]
    }
   ],
   "source": [
    "# Unfreeze ALL 12 transformer layers\n",
    "unfreeze_last_layers = 12         \n",
    "\n",
    "model = BaseCNNClassifier(\n",
    "    model_name,\n",
    "    class_weights_tensor,\n",
    "    device,\n",
    "    unfreeze_last_layers      # positional arg\n",
    ").to(device)\n"
   ]
  },
  {
   "cell_type": "code",
   "execution_count": 11,
   "id": "d3429867-9c06-48cd-b8e4-be490ea434c3",
   "metadata": {
    "scrolled": true
   },
   "outputs": [
    {
     "data": {
      "text/html": [
       "creating run (0.7s)"
      ],
      "text/plain": [
       "<IPython.core.display.HTML object>"
      ]
     },
     "metadata": {},
     "output_type": "display_data"
    },
    {
     "data": {
      "text/html": [
       "Tracking run with wandb version 0.19.9"
      ],
      "text/plain": [
       "<IPython.core.display.HTML object>"
      ]
     },
     "metadata": {},
     "output_type": "display_data"
    },
    {
     "data": {
      "text/html": [
       "Run data is saved locally in <code>/Project/notebooks/wandb/run-20250521_084912-kjbjhyup</code>"
      ],
      "text/plain": [
       "<IPython.core.display.HTML object>"
      ]
     },
     "metadata": {},
     "output_type": "display_data"
    },
    {
     "data": {
      "text/html": [
       "Syncing run <strong><a href='https://wandb.ai/natalia-timokhova-v-lule-university-of-technology/xlnet-hate-speech/runs/kjbjhyup' target=\"_blank\">smart-meadow-16</a></strong> to <a href='https://wandb.ai/natalia-timokhova-v-lule-university-of-technology/xlnet-hate-speech' target=\"_blank\">Weights & Biases</a> (<a href='https://wandb.me/developer-guide' target=\"_blank\">docs</a>)<br>"
      ],
      "text/plain": [
       "<IPython.core.display.HTML object>"
      ]
     },
     "metadata": {},
     "output_type": "display_data"
    },
    {
     "data": {
      "text/html": [
       " View project at <a href='https://wandb.ai/natalia-timokhova-v-lule-university-of-technology/xlnet-hate-speech' target=\"_blank\">https://wandb.ai/natalia-timokhova-v-lule-university-of-technology/xlnet-hate-speech</a>"
      ],
      "text/plain": [
       "<IPython.core.display.HTML object>"
      ]
     },
     "metadata": {},
     "output_type": "display_data"
    },
    {
     "data": {
      "text/html": [
       " View run at <a href='https://wandb.ai/natalia-timokhova-v-lule-university-of-technology/xlnet-hate-speech/runs/kjbjhyup' target=\"_blank\">https://wandb.ai/natalia-timokhova-v-lule-university-of-technology/xlnet-hate-speech/runs/kjbjhyup</a>"
      ],
      "text/plain": [
       "<IPython.core.display.HTML object>"
      ]
     },
     "metadata": {},
     "output_type": "display_data"
    },
    {
     "name": "stdout",
     "output_type": "stream",
     "text": [
      "\n",
      "Epoch 1\n",
      "Training Loss: 0.6361\n",
      "Train Accuracy: 0.6482\n",
      "Train F1 (macro): 0.6281\n",
      "\n",
      "Val Loss: 0.7035\n",
      "Val Accuracy: 0.5393\n",
      "Val F1 (macro): 0.5352\n",
      "\n",
      "New best model saved (F1: 0.5352, Acc: 0.5393)\n",
      "\n",
      "Epoch 2\n",
      "Training Loss: 0.6344\n",
      "Train Accuracy: 0.6438\n",
      "Train F1 (macro): 0.6335\n",
      "\n",
      "Val Loss: 0.7127\n",
      "Val Accuracy: 0.5308\n",
      "Val F1 (macro): 0.5235\n",
      "\n",
      "\n",
      "Epoch 3\n",
      "Training Loss: 0.6347\n",
      "Train Accuracy: 0.6484\n",
      "Train F1 (macro): 0.6380\n",
      "\n",
      "Val Loss: 0.7230\n",
      "Val Accuracy: 0.5245\n",
      "Val F1 (macro): 0.5144\n",
      "\n",
      "\n",
      "Epoch 4\n",
      "Training Loss: 0.6351\n",
      "Train Accuracy: 0.6360\n",
      "Train F1 (macro): 0.6263\n",
      "\n",
      "Val Loss: 0.7071\n",
      "Val Accuracy: 0.5342\n",
      "Val F1 (macro): 0.5288\n",
      "\n",
      "\n",
      "Epoch 5\n",
      "Training Loss: 0.6356\n",
      "Train Accuracy: 0.6428\n",
      "Train F1 (macro): 0.6330\n",
      "\n",
      "Val Loss: 0.7037\n",
      "Val Accuracy: 0.5342\n",
      "Val F1 (macro): 0.5292\n",
      "\n",
      "\n",
      "Epoch 6\n",
      "Training Loss: 0.6271\n",
      "Train Accuracy: 0.6489\n",
      "Train F1 (macro): 0.6385\n",
      "\n",
      "Val Loss: 0.7157\n",
      "Val Accuracy: 0.5233\n",
      "Val F1 (macro): 0.5147\n",
      "\n",
      "\n",
      "Epoch 7\n",
      "Training Loss: 0.6249\n",
      "Train Accuracy: 0.6606\n",
      "Train F1 (macro): 0.6506\n",
      "\n",
      "Val Loss: 0.7137\n",
      "Val Accuracy: 0.5279\n",
      "Val F1 (macro): 0.5199\n",
      "\n",
      "\n",
      "Epoch 8\n",
      "Training Loss: 0.6412\n",
      "Train Accuracy: 0.6321\n",
      "Train F1 (macro): 0.6222\n",
      "\n",
      "Val Loss: 0.7109\n",
      "Val Accuracy: 0.5290\n",
      "Val F1 (macro): 0.5213\n",
      "\n",
      "\n",
      "Epoch 9\n",
      "Training Loss: 0.6294\n",
      "Train Accuracy: 0.6489\n",
      "Train F1 (macro): 0.6395\n",
      "\n",
      "Val Loss: 0.7093\n",
      "Val Accuracy: 0.5296\n",
      "Val F1 (macro): 0.5224\n",
      "\n",
      "\n",
      "Epoch 10\n",
      "Training Loss: 0.6294\n",
      "Train Accuracy: 0.6406\n",
      "Train F1 (macro): 0.6323\n",
      "\n",
      "Val Loss: 0.7057\n",
      "Val Accuracy: 0.5336\n",
      "Val F1 (macro): 0.5279\n",
      "\n",
      "\n",
      "Epoch 11\n",
      "Training Loss: 0.6287\n",
      "Train Accuracy: 0.6445\n",
      "Train F1 (macro): 0.6353\n",
      "\n",
      "Val Loss: 0.7032\n",
      "Val Accuracy: 0.5359\n",
      "Val F1 (macro): 0.5309\n",
      "\n",
      "\n",
      "Epoch 12\n",
      "Training Loss: 0.6331\n",
      "Train Accuracy: 0.6467\n",
      "Train F1 (macro): 0.6358\n",
      "\n",
      "Val Loss: 0.7107\n",
      "Val Accuracy: 0.5313\n",
      "Val F1 (macro): 0.5241\n",
      "\n",
      "\n",
      "Epoch 13\n",
      "Training Loss: 0.6267\n",
      "Train Accuracy: 0.6479\n",
      "Train F1 (macro): 0.6391\n",
      "\n",
      "Val Loss: 0.7002\n",
      "Val Accuracy: 0.5359\n",
      "Val F1 (macro): 0.5315\n",
      "\n",
      "\n",
      "Epoch 14\n",
      "Training Loss: 0.6277\n",
      "Train Accuracy: 0.6484\n",
      "Train F1 (macro): 0.6382\n",
      "\n",
      "Val Loss: 0.7119\n",
      "Val Accuracy: 0.5290\n",
      "Val F1 (macro): 0.5215\n",
      "\n",
      "\n",
      "Epoch 15\n",
      "Training Loss: 0.6237\n",
      "Train Accuracy: 0.6450\n",
      "Train F1 (macro): 0.6366\n",
      "\n",
      "Val Loss: 0.7058\n",
      "Val Accuracy: 0.5319\n",
      "Val F1 (macro): 0.5261\n",
      "\n",
      "\n",
      "Epoch 16\n",
      "Training Loss: 0.6403\n",
      "Train Accuracy: 0.6372\n",
      "Train F1 (macro): 0.6279\n",
      "\n",
      "Val Loss: 0.7030\n",
      "Val Accuracy: 0.5347\n",
      "Val F1 (macro): 0.5297\n",
      "\n",
      "\n",
      "Epoch 17\n",
      "Training Loss: 0.6266\n",
      "Train Accuracy: 0.6455\n",
      "Train F1 (macro): 0.6345\n",
      "\n",
      "Val Loss: 0.7031\n",
      "Val Accuracy: 0.5347\n",
      "Val F1 (macro): 0.5296\n",
      "\n",
      "\n",
      "Epoch 18\n",
      "Training Loss: 0.6202\n",
      "Train Accuracy: 0.6494\n",
      "Train F1 (macro): 0.6401\n",
      "\n",
      "Val Loss: 0.7035\n",
      "Val Accuracy: 0.5347\n",
      "Val F1 (macro): 0.5296\n",
      "\n",
      "\n",
      "Epoch 19\n",
      "Training Loss: 0.6326\n",
      "Train Accuracy: 0.6453\n",
      "Train F1 (macro): 0.6366\n",
      "\n",
      "Val Loss: 0.7052\n",
      "Val Accuracy: 0.5325\n",
      "Val F1 (macro): 0.5270\n",
      "\n",
      "\n",
      "Epoch 20\n",
      "Training Loss: 0.6305\n",
      "Train Accuracy: 0.6409\n",
      "Train F1 (macro): 0.6311\n",
      "\n",
      "Val Loss: 0.7044\n",
      "Val Accuracy: 0.5325\n",
      "Val F1 (macro): 0.5270\n",
      "\n",
      "Test Loss: 0.6980\n",
      "Test Accuracy: 0.5317\n",
      "Test F1 (macro): 0.5277\n",
      "\n"
     ]
    },
    {
     "data": {
      "text/html": [],
      "text/plain": [
       "<IPython.core.display.HTML object>"
      ]
     },
     "metadata": {},
     "output_type": "display_data"
    },
    {
     "data": {
      "text/html": [
       "<br>    <style><br>        .wandb-row {<br>            display: flex;<br>            flex-direction: row;<br>            flex-wrap: wrap;<br>            justify-content: flex-start;<br>            width: 100%;<br>        }<br>        .wandb-col {<br>            display: flex;<br>            flex-direction: column;<br>            flex-basis: 100%;<br>            flex: 1;<br>            padding: 10px;<br>        }<br>    </style><br><div class=\"wandb-row\"><div class=\"wandb-col\"><h3>Run history:</h3><br/><table class=\"wandb\"><tr><td>current_lr</td><td>▅██▇▇▆▆▆▅▅▅▄▄▃▃▃▂▂▁▁</td></tr><tr><td>epoch</td><td>▁▁▂▂▂▃▃▄▄▄▅▅▅▆▆▇▇▇██</td></tr><tr><td>test_accuracy</td><td>▁</td></tr><tr><td>test_f1_macro</td><td>▁</td></tr><tr><td>test_f1_weighted</td><td>▁</td></tr><tr><td>test_loss</td><td>▁</td></tr><tr><td>test_precision_macro</td><td>▁</td></tr><tr><td>test_recall_macro</td><td>▁</td></tr><tr><td>train_accuracy</td><td>▅▄▅▂▄▅█▁▅▃▄▅▅▅▄▂▄▅▄▃</td></tr><tr><td>train_f1_macro</td><td>▂▄▅▂▄▅█▁▅▃▄▄▅▅▅▂▄▅▅▃</td></tr><tr><td>train_f1_weighted</td><td>▄▄▅▂▄▅█▁▅▃▄▅▅▅▄▂▄▅▄▃</td></tr><tr><td>train_loss</td><td>▆▆▆▆▆▃▃█▄▄▄▅▃▄▂█▃▁▅▄</td></tr><tr><td>train_precision_macro</td><td>▃▄▅▂▄▅█▁▅▄▄▄▅▅▅▂▄▅▅▃</td></tr><tr><td>train_recall_macro</td><td>▁▄▅▂▄▅█▁▅▄▄▄▅▅▅▃▄▆▅▃</td></tr><tr><td>val_accuracy</td><td>█▄▂▆▆▁▃▃▄▆▇▅▇▃▅▆▆▆▅▅</td></tr><tr><td>val_f1_macro</td><td>█▄▁▆▆▁▃▃▄▆▇▄▇▃▅▆▆▆▅▅</td></tr><tr><td>val_f1_weighted</td><td>█▄▁▆▆▁▃▃▄▆▇▄▇▃▅▆▆▆▅▅</td></tr><tr><td>val_loss</td><td>▂▅█▃▂▆▅▄▄▃▂▄▁▅▃▂▂▂▃▂</td></tr><tr><td>val_precision_macro</td><td>▃▅█▃▂▃▅▆▅▃▃▆▁▅▂▂▃▃▂▂</td></tr><tr><td>val_recall_macro</td><td>█▆▅▆▅▁▅▅▅▆▇▇▅▅▄▅▆▆▄▄</td></tr></table><br/></div><div class=\"wandb-col\"><h3>Run summary:</h3><br/><table class=\"wandb\"><tr><td>current_lr</td><td>0</td></tr><tr><td>epoch</td><td>20</td></tr><tr><td>scheduler</td><td>LambdaLR</td></tr><tr><td>test_accuracy</td><td>0.53166</td></tr><tr><td>test_f1_macro</td><td>0.52774</td></tr><tr><td>test_f1_weighted</td><td>0.54926</td></tr><tr><td>test_loss</td><td>0.69801</td></tr><tr><td>test_precision_macro</td><td>0.62385</td></tr><tr><td>test_recall_macro</td><td>0.64849</td></tr><tr><td>train_accuracy</td><td>0.64087</td></tr><tr><td>train_f1_macro</td><td>0.63115</td></tr><tr><td>train_f1_weighted</td><td>0.64474</td></tr><tr><td>train_loss</td><td>0.63048</td></tr><tr><td>train_precision_macro</td><td>0.63103</td></tr><tr><td>train_recall_macro</td><td>0.63684</td></tr><tr><td>val_accuracy</td><td>0.53246</td></tr><tr><td>val_f1_macro</td><td>0.52698</td></tr><tr><td>val_f1_weighted</td><td>0.51538</td></tr><tr><td>val_loss</td><td>0.70445</td></tr><tr><td>val_precision_macro</td><td>0.60317</td></tr><tr><td>val_recall_macro</td><td>0.58746</td></tr></table><br/></div></div>"
      ],
      "text/plain": [
       "<IPython.core.display.HTML object>"
      ]
     },
     "metadata": {},
     "output_type": "display_data"
    },
    {
     "data": {
      "text/html": [
       " View run <strong style=\"color:#cdcd00\">smart-meadow-16</strong> at: <a href='https://wandb.ai/natalia-timokhova-v-lule-university-of-technology/xlnet-hate-speech/runs/kjbjhyup' target=\"_blank\">https://wandb.ai/natalia-timokhova-v-lule-university-of-technology/xlnet-hate-speech/runs/kjbjhyup</a><br> View project at: <a href='https://wandb.ai/natalia-timokhova-v-lule-university-of-technology/xlnet-hate-speech' target=\"_blank\">https://wandb.ai/natalia-timokhova-v-lule-university-of-technology/xlnet-hate-speech</a><br>Synced 5 W&B file(s), 1 media file(s), 0 artifact file(s) and 0 other file(s)"
      ],
      "text/plain": [
       "<IPython.core.display.HTML object>"
      ]
     },
     "metadata": {},
     "output_type": "display_data"
    },
    {
     "data": {
      "text/html": [
       "Find logs at: <code>./wandb/run-20250521_084912-kjbjhyup/logs</code>"
      ],
      "text/plain": [
       "<IPython.core.display.HTML object>"
      ]
     },
     "metadata": {},
     "output_type": "display_data"
    },
    {
     "name": "stdout",
     "output_type": "stream",
     "text": [
      "Final test metrics: {'f1': 0.5277400211167611, 'accuracy': 0.5316565481352992}\n"
     ]
    },
    {
     "data": {
      "image/png": "[encoded data removed]",
      "text/plain": [
       "<Figure size 600x400 with 2 Axes>"
      ]
     },
     "metadata": {},
     "output_type": "display_data"
    }
   ],
   "source": [
    "import wandb\n",
    "from transformers import get_linear_schedule_with_warmup\n",
    "\n",
    "lr      = 2e-6         # smaller LR for full fine-tune\n",
    "epochs  = 20           # XLNet usually converges in <10 epochs\n",
    "\n",
    "# Optimise ALL parameters now\n",
    "optimizer = torch.optim.AdamW(model.parameters(), lr=lr, weight_decay=0.01)\n",
    "\n",
    "total_steps  = len(train_loader) * epochs\n",
    "warmup_steps = int(0.1 * total_steps)\n",
    "\n",
    "scheduler = get_linear_schedule_with_warmup(\n",
    "    optimizer,\n",
    "    num_warmup_steps = warmup_steps,\n",
    "    num_training_steps = total_steps\n",
    ")\n",
    "\n",
    "wandb.init(\n",
    "    project = \"xlnet-hate-speech\",\n",
    "    config  = dict(\n",
    "        model_name      = model_name,\n",
    "        unfrozen_layers = unfreeze_last_layers,\n",
    "        epochs          = epochs,\n",
    "        lr              = lr,\n",
    "        max_len         = 256,\n",
    "        imbalance_mode  = imbalance_mode\n",
    "    )\n",
    ")\n",
    "\n",
    "\n",
    "# train_model signature:\n",
    "train_model(\n",
    "    model,\n",
    "    train_loader,\n",
    "    val_loader,\n",
    "    optimizer,\n",
    "    device,\n",
    "    epochs,\n",
    "    \"best_xlnet.pt\",\n",
    "    scheduler = scheduler                 # ← pass the scheduler\n",
    ")\n",
    "\n",
    "\n",
    "# Load the best checkpoint\n",
    "model.load_state_dict(torch.load(\"best_xlnet.pt\", weights_only=True))\n",
    "\n",
    "# Final evaluation on the held-out test set\n",
    "test_metrics = test_model(model, test_loader, device, phase=\"test\")\n",
    "print(\"Final test metrics:\", test_metrics)\n",
    "\n",
    "# ── CLOSE the W&B run ────────────────────────────────────────────────\n",
    "import wandb\n",
    "wandb.finish()          # <— this line explicitly ends the run"
   ]
  },
  {
   "cell_type": "markdown",
   "id": "658e9f74-030c-4eeb-a5c8-b79e3b9d9607",
   "metadata": {},
   "source": []
  },
  {
   "cell_type": "markdown",
   "id": "ef0bfcba-0b6c-4b4f-ba2e-c8a582755c85",
   "metadata": {},
   "source": []
  },
  {
   "cell_type": "code",
   "execution_count": null,
   "id": "f3a58f62-a946-4146-b3b7-09a65864d7eb",
   "metadata": {},
   "outputs": [],
   "source": []
  }
 ],
 "metadata": {
  "kernelspec": {
   "display_name": "Python 3 (ipykernel)",
   "language": "python",
   "name": "python3"
  },
  "language_info": {
   "codemirror_mode": {
    "name": "ipython",
    "version": 3
   },
   "file_extension": ".py",
   "mimetype": "text/x-python",
   "name": "python",
   "nbconvert_exporter": "python",
   "pygments_lexer": "ipython3",
   "version": "3.11.11"
  }
 },
 "nbformat": 4,
 "nbformat_minor": 5
}
