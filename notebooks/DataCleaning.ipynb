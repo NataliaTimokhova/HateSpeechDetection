{
 "cells": [
  {
   "cell_type": "markdown",
   "id": "83ec57a7",
   "metadata": {},
   "source": [
    "Dataset needs to be cleaned"
   ]
  },
  {
   "cell_type": "code",
   "execution_count": 1,
   "id": "91de74e2",
   "metadata": {},
   "outputs": [],
   "source": [
    "import pandas as pd\n",
    "import re\n",
    "import os\n",
    "\n",
    "from tqdm import tqdm\n",
    "\n",
    "# Optional: tqdm for apply()\n",
    "tqdm.pandas()\n",
    "\n",
    "import sys\n",
    "from pathlib import Path\n",
    "\n",
    "# Add src/ to path (once, so imports work)\n",
    "sys.path.append(str(Path().resolve().parent / \"src\"))\n",
    "\n",
    "# Now you can import paths\n",
    "from paths import DATA_PROCESSED\n",
    "from paths import DATA_CLEANED"
   ]
  },
  {
   "cell_type": "markdown",
   "id": "b749e2c3",
   "metadata": {},
   "source": [
    "Get dataset"
   ]
  },
  {
   "cell_type": "code",
   "execution_count": 2,
   "id": "975bc0a5",
   "metadata": {},
   "outputs": [],
   "source": [
    "df_train = pd.read_csv(DATA_PROCESSED / \"hasoc_2019_en_train.tsv\", sep='\\t')\n",
    "df_test = pd.read_csv(DATA_PROCESSED / \"hasoc_2019_en_test.tsv\", sep='\\t')"
   ]
  },
  {
   "cell_type": "markdown",
   "id": "2cc34179",
   "metadata": {},
   "source": [
    "Helper function to clean dataset"
   ]
  },
  {
   "cell_type": "code",
   "execution_count": 3,
   "id": "67152ea1",
   "metadata": {},
   "outputs": [],
   "source": [
    "def clean_text(text):\n",
    "    text = str(text)\n",
    "\n",
    "    # 1. Remove Twitter handles (@usernames)\n",
    "    text = re.sub(r'@\\w+', '', text)\n",
    "\n",
    "    # 2. Remove URLs\n",
    "    text = re.sub(r'http\\S+|www\\S+', '', text)\n",
    "\n",
    "    # 3. Remove hashtags but keep the text (optional)\n",
    "    text = re.sub(r'#', '', text)\n",
    "\n",
    "    # 4. Remove special characters except basic punctuation\n",
    "    text = re.sub(r'[^\\w\\s.,!?]', '', text)\n",
    "\n",
    "    # 5. Convert to lowercase\n",
    "    text = text.lower()\n",
    "\n",
    "    # 6. Remove extra whitespace\n",
    "    text = re.sub(r'\\s+', ' ', text).strip()\n",
    "\n",
    "    return text"
   ]
  },
  {
   "cell_type": "code",
   "execution_count": 4,
   "id": "03a926d0",
   "metadata": {},
   "outputs": [
    {
     "name": "stderr",
     "output_type": "stream",
     "text": [
      "100%|██████████| 5852/5852 [00:00<00:00, 29064.75it/s]\n",
      "100%|██████████| 1153/1153 [00:00<00:00, 27108.72it/s]\n"
     ]
    }
   ],
   "source": [
    "df_train['text'] = df_train['text'].progress_apply(clean_text)\n",
    "df_test['text'] = df_test['text'].progress_apply(clean_text)"
   ]
  },
  {
   "cell_type": "markdown",
   "id": "0d5d6c50",
   "metadata": {},
   "source": [
    "Save cleaned dataset"
   ]
  },
  {
   "cell_type": "code",
   "execution_count": 5,
   "id": "24dd06d9",
   "metadata": {},
   "outputs": [
    {
     "name": "stdout",
     "output_type": "stream",
     "text": [
      "Cleaned file saved to: C:\\Users\\JuliusAdmin\\Documents\\GitHub\\HateSpeechDetection\\data\\cleaned\\hasoc_2019_en_train_cleaned.tsv\n"
     ]
    }
   ],
   "source": [
    "output_path = DATA_CLEANED / \"hasoc_2019_en_train_cleaned.tsv\"\n",
    "os.makedirs(os.path.dirname(output_path), exist_ok=True)\n",
    "df_train.to_csv(output_path, sep='\\t', index=False)\n",
    "print(f\"Cleaned file saved to: {output_path}\")"
   ]
  },
  {
   "cell_type": "code",
   "execution_count": 6,
   "id": "32b53122",
   "metadata": {},
   "outputs": [
    {
     "name": "stdout",
     "output_type": "stream",
     "text": [
      "Cleaned file saved to: C:\\Users\\JuliusAdmin\\Documents\\GitHub\\HateSpeechDetection\\data\\cleaned\\hasoc_2019_en_test_cleaned.tsv\n"
     ]
    }
   ],
   "source": [
    "output_path = DATA_CLEANED / \"hasoc_2019_en_test_cleaned.tsv\"\n",
    "os.makedirs(os.path.dirname(output_path), exist_ok=True)\n",
    "df_test.to_csv(output_path, sep='\\t', index=False)\n",
    "print(f\"Cleaned file saved to: {output_path}\")"
   ]
  }
 ],
 "metadata": {
  "kernelspec": {
   "display_name": "adl",
   "language": "python",
   "name": "python3"
  },
  "language_info": {
   "codemirror_mode": {
    "name": "ipython",
    "version": 3
   },
   "file_extension": ".py",
   "mimetype": "text/x-python",
   "name": "python",
   "nbconvert_exporter": "python",
   "pygments_lexer": "ipython3",
   "version": "3.8.20"
  }
 },
 "nbformat": 4,
 "nbformat_minor": 5
}
