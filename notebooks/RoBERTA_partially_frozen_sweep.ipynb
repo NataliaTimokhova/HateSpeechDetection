{
 "cells": [
  {
   "cell_type": "code",
   "execution_count": null,
   "id": "367912e8",
   "metadata": {},
   "outputs": [],
   "source": [
    "import sys\n",
    "from pathlib import Path\n",
    "\n",
    "# Add src/ to path (once, so imports work)\n",
    "sys.path.append(str(Path().resolve().parent / \"src\"))\n",
    "\n",
    "%load_ext autoreload\n",
    "%autoreload 2\n",
    "from sweep_runner import sweep_train"
   ]
  },
  {
   "cell_type": "code",
   "execution_count": null,
   "id": "77ac943b",
   "metadata": {},
   "outputs": [],
   "source": [
    "import wandb\n",
    "\n",
    "sweep_config = {\n",
    "    \"method\": \"bayes\",\n",
    "    \"metric\": {\n",
    "        \"name\": \"val_f1_macro\",\n",
    "        \"goal\": \"maximize\"\n",
    "    },\n",
    "    \"parameters\": {\n",
    "        \"model_name\": {\n",
    "            \"values\": [\n",
    "                \"cardiffnlp/twitter-roberta-base-sentiment-latest\",\n",
    "                \"roberta-base\",\n",
    "                \"roberta-large\"\n",
    "            ]\n",
    "        },\n",
    "        \"learning_rate\": {\n",
    "            \"min\": 1e-6,\n",
    "            \"max\": 1e-4\n",
    "        },\n",
    "        \"unfrozen_last_layers\": {\n",
    "            \"values\": [0, 1, 2, 3, 4, 5]\n",
    "        },\n",
    "        \"pooling\": {\n",
    "            \"values\": [\"cls\", \"mean\", \"attention_pooling\"]\n",
    "        },\n",
    "        \"epochs\": {\n",
    "            \"value\": 50\n",
    "        }\n",
    "    }\n",
    "}"
   ]
  },
  {
   "cell_type": "code",
   "execution_count": null,
   "id": "1ef90031",
   "metadata": {},
   "outputs": [],
   "source": [
    "sweep_id = wandb.sweep(sweep_config, project=\"roberta-sweep\")\n",
    "print(\"Sweep ID:\", sweep_id)"
   ]
  },
  {
   "cell_type": "code",
   "execution_count": null,
   "id": "634a2d13",
   "metadata": {},
   "outputs": [],
   "source": [
    "wandb.agent(sweep_id, function=sweep_train, count=10)"
   ]
  }
 ],
 "metadata": {
  "language_info": {
   "name": "python"
  }
 },
 "nbformat": 4,
 "nbformat_minor": 5
}
