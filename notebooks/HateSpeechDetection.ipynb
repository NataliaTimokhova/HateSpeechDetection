{
 "cells": [
  {
   "cell_type": "markdown",
   "id": "4e76a0e7-e90e-457e-8dc4-81cc472f2f1e",
   "metadata": {},
   "source": [
    "The goal of this project is to use the pretrained RoBERTa transformer as a feature extractor with a costum classification head to determine if text messages are offensive or not."
   ]
  },
  {
   "cell_type": "code",
   "execution_count": 1,
   "id": "cfbb6aaa",
   "metadata": {},
   "outputs": [],
   "source": [
    "import pandas as pd\n",
    "import torch\n",
    "import torch.nn as nn\n",
    "from torch.utils.data import Dataset, DataLoader\n",
    "\n",
    "from transformers import AutoTokenizer, AutoModel, AutoModelForSequenceClassification, AutoConfig\n",
    "\n",
    "from sklearn.model_selection import train_test_split\n",
    "from sklearn.metrics import accuracy_score, precision_score, recall_score, f1_score\n",
    "from sklearn.metrics import confusion_matrix\n",
    "\n",
    "import seaborn as sns\n",
    "import matplotlib.pyplot as plt\n",
    "\n",
    "import wandb\n",
    "\n",
    "import sys\n",
    "from pathlib import Path\n",
    "\n",
    "# Add src/ to path (once, so imports work)\n",
    "sys.path.append(str(Path().resolve().parent / \"src\"))\n",
    "\n",
    "from paths import DATA_CLEANED\n",
    "from paths import DATA_PROCESSED"
   ]
  },
  {
   "cell_type": "markdown",
   "id": "f040a974",
   "metadata": {},
   "source": [
    "## Using RoBERTa as a feature extractor with a costum classification head"
   ]
  },
  {
   "cell_type": "markdown",
   "id": "0ee4da52",
   "metadata": {},
   "source": [
    "Found this pretrained model online: cardiffnlp/twitter-roberta-base-sentiment-latest (https://huggingface.co/cardiffnlp/twitter-roberta-base-sentiment-latest)\n",
    "\n",
    "It is already pretrained on twitter messages. "
   ]
  },
  {
   "cell_type": "markdown",
   "id": "f82d5297-ec56-4954-91d1-7b650e5b16f0",
   "metadata": {},
   "source": [
    "Define experiment scope:"
   ]
  },
  {
   "cell_type": "code",
   "execution_count": 2,
   "id": "3ad28b13-1a6b-4331-bc4b-37b863df796a",
   "metadata": {},
   "outputs": [],
   "source": [
    "# here we are just using the labels of the first task of the HASOC dataset, which is a binary classification\n",
    "label = \"task_1\""
   ]
  },
  {
   "cell_type": "markdown",
   "id": "1dc731c7",
   "metadata": {},
   "source": [
    "Define which pretrained model is used and initilise tokenizer"
   ]
  },
  {
   "cell_type": "code",
   "execution_count": 3,
   "id": "669dc7c9",
   "metadata": {},
   "outputs": [],
   "source": [
    "model_name = 'roberta-base'\n",
    "\n",
    "tokenizer = AutoTokenizer.from_pretrained(model_name)"
   ]
  },
  {
   "cell_type": "markdown",
   "id": "ce20ed5c",
   "metadata": {},
   "source": [
    "Classification head"
   ]
  },
  {
   "cell_type": "code",
   "execution_count": 4,
   "id": "197cc0f8",
   "metadata": {},
   "outputs": [],
   "source": [
    "class CustomClassifier(nn.Module):\n",
    "    def __init__(self, model_name, pooling='cls'):\n",
    "        super().__init__()\n",
    "        self.pooling = pooling.lower()\n",
    "        self.base = AutoModel.from_pretrained(model_name)\n",
    "        config = AutoConfig.from_pretrained(model_name)\n",
    "        hidden_size = config.hidden_size  # Dynamically get the model's hidden size\n",
    "\n",
    "        \n",
    "        print(hidden_size)\n",
    "        \n",
    "        # Freeze all parameters of the base model\n",
    "        for param in self.base.parameters():\n",
    "            param.requires_grad = False\n",
    "\n",
    "        # Custom classification head\n",
    "        self.classifier = nn.Sequential(\n",
    "            nn.Linear(hidden_size, 128),\n",
    "            nn.ReLU(),\n",
    "            nn.Dropout(0.1),\n",
    "            nn.Linear(128, 2)\n",
    "        )\n",
    "\n",
    "    def forward(self, input_ids, attention_mask, labels=None):\n",
    "        outputs = self.base(input_ids=input_ids, attention_mask=attention_mask)\n",
    "\n",
    "        # Pooling strategy: either CLS token or mean pooling over token embeddings\n",
    "        if self.pooling == 'mean':\n",
    "            token_embeddings = outputs.last_hidden_state\n",
    "            input_mask_expanded = attention_mask.unsqueeze(-1).expand(token_embeddings.size())\n",
    "            sum_embeddings = torch.sum(token_embeddings * input_mask_expanded, 1)\n",
    "            sum_mask = input_mask_expanded.sum(1).clamp(min=1e-9)\n",
    "            pooled = sum_embeddings / sum_mask\n",
    "        else:\n",
    "            pooled = outputs.last_hidden_state[:, 0, :]  # CLS token\n",
    "\n",
    "        logits = self.classifier(pooled)\n",
    "\n",
    "        # If labels are provided, calculate the loss\n",
    "        if labels is not None:\n",
    "            loss_fn = nn.CrossEntropyLoss()\n",
    "            loss = loss_fn(logits, labels)\n",
    "            return logits, loss\n",
    "\n",
    "        return logits"
   ]
  },
  {
   "cell_type": "markdown",
   "id": "20bb86e8",
   "metadata": {},
   "source": [
    "## Load HASOC dataset for training, validation and testing"
   ]
  },
  {
   "cell_type": "code",
   "execution_count": 5,
   "id": "2f76fc4b",
   "metadata": {},
   "outputs": [],
   "source": [
    "# Load training and test data\n",
    "clean_df = pd.read_csv(DATA_CLEANED / \"hasoc_2019_en_train_cleaned.tsv\", sep='\\t')\n",
    "test_df = pd.read_csv(DATA_PROCESSED / \"hasoc_2019_en_test.tsv\", sep='\\t')\n",
    "\n",
    "# Split clean dataset in training and validation set\n",
    "train_df, val_df = train_test_split(clean_df, test_size=0.3, random_state=42, stratify=clean_df[label])\n",
    "\n",
    "# Automatically map string labels to integers\n",
    "label_list = sorted(train_df[label].unique())\n",
    "label_map = {label: idx for idx, label in enumerate(label_list)}\n",
    "\n",
    "train_df[label] = train_df[label].map(label_map)\n",
    "val_df[label] = val_df[label].map(label_map)\n",
    "test_df[label] = test_df[label].map(label_map)\n",
    "\n",
    "# Custom Dataset Class\n",
    "class HateSpeechDataset(Dataset):\n",
    "    def __init__(self, df, tokenizer, label = 'label', max_len=128):\n",
    "        self.texts = df[\"text\"].tolist()\n",
    "        self.labels = df[label].tolist()\n",
    "        self.encodings = tokenizer(self.texts, padding=True, truncation=True, max_length=max_len)\n",
    "\n",
    "    def __getitem__(self, idx):\n",
    "        item = {key: torch.tensor(val[idx]) for key, val in self.encodings.items()}\n",
    "        item['labels'] = torch.tensor(self.labels[idx])\n",
    "        return item\n",
    "\n",
    "    def __len__(self):\n",
    "        return len(self.labels)\n",
    "\n",
    "# Create PyTorch Datasets and DataLoaders\n",
    "train_dataset = HateSpeechDataset(train_df, tokenizer, label=label)\n",
    "val_dataset = HateSpeechDataset(val_df, tokenizer, label=label)\n",
    "test_dataset = HateSpeechDataset(test_df, tokenizer, label=label)\n",
    "\n",
    "train_loader = DataLoader(train_dataset, batch_size=16, shuffle=True)\n",
    "val_loader = DataLoader(val_dataset, batch_size=16)\n",
    "test_loader = DataLoader(test_dataset, batch_size=32)"
   ]
  },
  {
   "cell_type": "markdown",
   "id": "2fd402e6",
   "metadata": {},
   "source": [
    "## Training and evaluation of model"
   ]
  },
  {
   "cell_type": "code",
   "execution_count": 6,
   "id": "456ec3ec-d7e1-47ad-a9f1-57dac6011ebd",
   "metadata": {},
   "outputs": [
    {
     "name": "stderr",
     "output_type": "stream",
     "text": [
      "2025-05-09 16:25:45.202669: I tensorflow/core/util/port.cc:153] oneDNN custom operations are on. You may see slightly different numerical results due to floating-point round-off errors from different computation orders. To turn them off, set the environment variable `TF_ENABLE_ONEDNN_OPTS=0`.\n",
      "2025-05-09 16:25:45.219672: E external/local_xla/xla/stream_executor/cuda/cuda_fft.cc:467] Unable to register cuFFT factory: Attempting to register factory for plugin cuFFT when one has already been registered\n",
      "WARNING: All log messages before absl::InitializeLog() is called are written to STDERR\n",
      "E0000 00:00:1746800745.239150   32020 cuda_dnn.cc:8579] Unable to register cuDNN factory: Attempting to register factory for plugin cuDNN when one has already been registered\n",
      "E0000 00:00:1746800745.245105   32020 cuda_blas.cc:1407] Unable to register cuBLAS factory: Attempting to register factory for plugin cuBLAS when one has already been registered\n",
      "W0000 00:00:1746800745.259528   32020 computation_placer.cc:177] computation placer already registered. Please check linkage and avoid linking the same target more than once.\n",
      "W0000 00:00:1746800745.259542   32020 computation_placer.cc:177] computation placer already registered. Please check linkage and avoid linking the same target more than once.\n",
      "W0000 00:00:1746800745.259544   32020 computation_placer.cc:177] computation placer already registered. Please check linkage and avoid linking the same target more than once.\n",
      "W0000 00:00:1746800745.259545   32020 computation_placer.cc:177] computation placer already registered. Please check linkage and avoid linking the same target more than once.\n",
      "2025-05-09 16:25:45.264929: I tensorflow/core/platform/cpu_feature_guard.cc:210] This TensorFlow binary is optimized to use available CPU instructions in performance-critical operations.\n",
      "To enable the following instructions: AVX2 AVX512F AVX512_VNNI FMA, in other operations, rebuild TensorFlow with the appropriate compiler flags.\n",
      "Some weights of RobertaModel were not initialized from the model checkpoint at roberta-base and are newly initialized: ['pooler.dense.bias', 'pooler.dense.weight']\n",
      "You should probably TRAIN this model on a down-stream task to be able to use it for predictions and inference.\n"
     ]
    },
    {
     "name": "stdout",
     "output_type": "stream",
     "text": [
      "768\n"
     ]
    }
   ],
   "source": [
    "# Use GPU if available\n",
    "device = torch.device(\"cuda\" if torch.cuda.is_available() else \"cpu\")\n",
    "\n",
    "# Initialize model\n",
    "model = CustomClassifier(model_name, pooling=\"cls\").to(device)\n",
    "\n",
    "# Optimizer only for the classification head\n",
    "optimizer = torch.optim.AdamW(model.classifier.parameters(), lr=2e-4)\n",
    "epochs = 25"
   ]
  },
  {
   "cell_type": "code",
   "execution_count": 7,
   "id": "c5445349-d36a-4138-bc0f-f2dd004fe549",
   "metadata": {},
   "outputs": [
    {
     "name": "stderr",
     "output_type": "stream",
     "text": [
      "\u001b[34m\u001b[1mwandb\u001b[0m: Using wandb-core as the SDK backend.  Please refer to https://wandb.me/wandb-core for more information.\n",
      "\u001b[34m\u001b[1mwandb\u001b[0m: Currently logged in as: \u001b[33mnatalia-timokhova-v\u001b[0m (\u001b[33mnatalia-timokhova-v-lule-university-of-technology\u001b[0m) to \u001b[32mhttps://api.wandb.ai\u001b[0m. Use \u001b[1m`wandb login --relogin`\u001b[0m to force relogin\n"
     ]
    },
    {
     "data": {
      "text/html": [
       "Tracking run with wandb version 0.19.9"
      ],
      "text/plain": [
       "<IPython.core.display.HTML object>"
      ]
     },
     "metadata": {},
     "output_type": "display_data"
    },
    {
     "data": {
      "text/html": [
       "Run data is saved locally in <code>/Project/notebooks/wandb/run-20250509_162548-zcl5qkjk</code>"
      ],
      "text/plain": [
       "<IPython.core.display.HTML object>"
      ]
     },
     "metadata": {},
     "output_type": "display_data"
    },
    {
     "data": {
      "text/html": [
       "Syncing run <strong><a href='https://wandb.ai/natalia-timokhova-v-lule-university-of-technology/roberta-classifier/runs/zcl5qkjk' target=\"_blank\">hopeful-lion-5</a></strong> to <a href='https://wandb.ai/natalia-timokhova-v-lule-university-of-technology/roberta-classifier' target=\"_blank\">Weights & Biases</a> (<a href='https://wandb.me/developer-guide' target=\"_blank\">docs</a>)<br>"
      ],
      "text/plain": [
       "<IPython.core.display.HTML object>"
      ]
     },
     "metadata": {},
     "output_type": "display_data"
    },
    {
     "data": {
      "text/html": [
       " View project at <a href='https://wandb.ai/natalia-timokhova-v-lule-university-of-technology/roberta-classifier' target=\"_blank\">https://wandb.ai/natalia-timokhova-v-lule-university-of-technology/roberta-classifier</a>"
      ],
      "text/plain": [
       "<IPython.core.display.HTML object>"
      ]
     },
     "metadata": {},
     "output_type": "display_data"
    },
    {
     "data": {
      "text/html": [
       " View run at <a href='https://wandb.ai/natalia-timokhova-v-lule-university-of-technology/roberta-classifier/runs/zcl5qkjk' target=\"_blank\">https://wandb.ai/natalia-timokhova-v-lule-university-of-technology/roberta-classifier/runs/zcl5qkjk</a>"
      ],
      "text/plain": [
       "<IPython.core.display.HTML object>"
      ]
     },
     "metadata": {},
     "output_type": "display_data"
    },
    {
     "data": {
      "text/html": [
       "<button onClick=\"this.nextSibling.style.display='block';this.style.display='none';\">Display W&B run</button><iframe src='https://wandb.ai/natalia-timokhova-v-lule-university-of-technology/roberta-classifier/runs/zcl5qkjk?jupyter=true' style='border:none;width:100%;height:420px;display:none;'></iframe>"
      ],
      "text/plain": [
       "<wandb.sdk.wandb_run.Run at 0x7f0a0d0ab390>"
      ]
     },
     "execution_count": 7,
     "metadata": {},
     "output_type": "execute_result"
    }
   ],
   "source": [
    "wandb.init(project=\"roberta-classifier\", config={\n",
    "    \"model\": model_name,\n",
    "    \"pooling\": \"cls\",\n",
    "    \"epochs\": epochs,\n",
    "    \"lr\": 2e-4,\n",
    "    \"frozen_base\": True\n",
    "})"
   ]
  },
  {
   "cell_type": "code",
   "execution_count": 8,
   "id": "56f92b93",
   "metadata": {},
   "outputs": [
    {
     "name": "stdout",
     "output_type": "stream",
     "text": [
      "\n",
      "Epoch 1\n",
      "Train Loss: 0.6228\n",
      "Train Accuracy: 0.6143\n",
      "Train F1 (macro): 0.3847\n"
     ]
    },
    {
     "name": "stderr",
     "output_type": "stream",
     "text": [
      "/usr/local/lib/python3.11/dist-packages/sklearn/metrics/_classification.py:1565: UndefinedMetricWarning: Precision is ill-defined and being set to 0.0 in labels with no predicted samples. Use `zero_division` parameter to control this behavior.\n",
      "  _warn_prf(average, modifier, f\"{metric.capitalize()} is\", len(result))\n"
     ]
    },
    {
     "name": "stdout",
     "output_type": "stream",
     "text": [
      "\n",
      "Test Accuracy: 0.6139\n",
      "Test F1 (macro): 0.3804\n",
      "\n",
      "Epoch 2\n",
      "Train Loss: 0.7563\n",
      "Train Accuracy: 0.6155\n",
      "Train F1 (macro): 0.3915\n",
      "\n",
      "Test Accuracy: 0.6179\n",
      "Test F1 (macro): 0.3942\n",
      "\n",
      "Epoch 3\n",
      "Train Loss: 0.7277\n",
      "Train Accuracy: 0.6184\n",
      "Train F1 (macro): 0.4261\n",
      "\n",
      "Test Accuracy: 0.6247\n",
      "Test F1 (macro): 0.4152\n",
      "\n",
      "Epoch 4\n",
      "Train Loss: 0.6249\n",
      "Train Accuracy: 0.6284\n",
      "Train F1 (macro): 0.4633\n",
      "\n",
      "Test Accuracy: 0.6526\n",
      "Test F1 (macro): 0.5311\n",
      "\n",
      "Epoch 5\n",
      "Train Loss: 0.5811\n",
      "Train Accuracy: 0.6350\n",
      "Train F1 (macro): 0.5116\n",
      "\n",
      "Test Accuracy: 0.6646\n",
      "Test F1 (macro): 0.5975\n",
      "\n",
      "Epoch 6\n",
      "Train Loss: 0.5545\n",
      "Train Accuracy: 0.6436\n",
      "Train F1 (macro): 0.5272\n",
      "\n",
      "Test Accuracy: 0.6566\n",
      "Test F1 (macro): 0.5518\n",
      "\n",
      "Epoch 7\n",
      "Train Loss: 0.6039\n",
      "Train Accuracy: 0.6519\n",
      "Train F1 (macro): 0.5501\n",
      "\n",
      "Test Accuracy: 0.6623\n",
      "Test F1 (macro): 0.5842\n",
      "\n",
      "Epoch 8\n",
      "Train Loss: 0.7521\n",
      "Train Accuracy: 0.6582\n",
      "Train F1 (macro): 0.5720\n",
      "\n",
      "Test Accuracy: 0.6600\n",
      "Test F1 (macro): 0.5678\n",
      "\n",
      "Epoch 9\n",
      "Train Loss: 0.5310\n",
      "Train Accuracy: 0.6643\n",
      "Train F1 (macro): 0.5888\n",
      "\n",
      "Test Accuracy: 0.6532\n",
      "Test F1 (macro): 0.5441\n",
      "\n",
      "Epoch 10\n",
      "Train Loss: 0.7514\n",
      "Train Accuracy: 0.6594\n",
      "Train F1 (macro): 0.5839\n",
      "\n",
      "Test Accuracy: 0.6674\n",
      "Test F1 (macro): 0.6225\n",
      "\n",
      "Epoch 11\n",
      "Train Loss: 0.6784\n",
      "Train Accuracy: 0.6560\n",
      "Train F1 (macro): 0.5839\n",
      "\n",
      "Test Accuracy: 0.6708\n",
      "Test F1 (macro): 0.6257\n",
      "\n",
      "Epoch 12\n",
      "Train Loss: 0.5048\n",
      "Train Accuracy: 0.6580\n",
      "Train F1 (macro): 0.5952\n",
      "\n",
      "Test Accuracy: 0.6629\n",
      "Test F1 (macro): 0.6430\n",
      "\n",
      "Epoch 13\n",
      "Train Loss: 0.4645\n",
      "Train Accuracy: 0.6721\n",
      "Train F1 (macro): 0.6140\n",
      "\n",
      "Test Accuracy: 0.6697\n",
      "Test F1 (macro): 0.6270\n",
      "\n",
      "Epoch 14\n",
      "Train Loss: 0.7787\n",
      "Train Accuracy: 0.6682\n",
      "Train F1 (macro): 0.6048\n",
      "\n",
      "Test Accuracy: 0.6572\n",
      "Test F1 (macro): 0.5604\n",
      "\n",
      "Epoch 15\n",
      "Train Loss: 0.5186\n",
      "Train Accuracy: 0.6682\n",
      "Train F1 (macro): 0.6075\n",
      "\n",
      "Test Accuracy: 0.6640\n",
      "Test F1 (macro): 0.6292\n",
      "\n",
      "Epoch 16\n",
      "Train Loss: 0.7488\n",
      "Train Accuracy: 0.6736\n",
      "Train F1 (macro): 0.6203\n",
      "\n",
      "Test Accuracy: 0.6697\n",
      "Test F1 (macro): 0.6267\n",
      "\n",
      "Epoch 17\n",
      "Train Loss: 0.6834\n",
      "Train Accuracy: 0.6726\n",
      "Train F1 (macro): 0.6196\n",
      "\n",
      "Test Accuracy: 0.6686\n",
      "Test F1 (macro): 0.5855\n",
      "\n",
      "Epoch 18\n",
      "Train Loss: 0.5866\n",
      "Train Accuracy: 0.6721\n",
      "Train F1 (macro): 0.6156\n",
      "\n",
      "Test Accuracy: 0.6623\n",
      "Test F1 (macro): 0.5707\n",
      "\n",
      "Epoch 19\n",
      "Train Loss: 0.5538\n",
      "Train Accuracy: 0.6650\n",
      "Train F1 (macro): 0.6085\n",
      "\n",
      "Test Accuracy: 0.6674\n",
      "Test F1 (macro): 0.6451\n",
      "\n",
      "Epoch 20\n",
      "Train Loss: 0.4951\n",
      "Train Accuracy: 0.6753\n",
      "Train F1 (macro): 0.6223\n",
      "\n",
      "Test Accuracy: 0.6720\n",
      "Test F1 (macro): 0.6443\n",
      "\n",
      "Epoch 21\n",
      "Train Loss: 0.6705\n",
      "Train Accuracy: 0.6746\n",
      "Train F1 (macro): 0.6253\n",
      "\n",
      "Test Accuracy: 0.6737\n",
      "Test F1 (macro): 0.6291\n",
      "\n",
      "Epoch 22\n",
      "Train Loss: 0.6668\n",
      "Train Accuracy: 0.6689\n",
      "Train F1 (macro): 0.6178\n",
      "\n",
      "Test Accuracy: 0.6748\n",
      "Test F1 (macro): 0.6290\n",
      "\n",
      "Epoch 23\n",
      "Train Loss: 0.5050\n",
      "Train Accuracy: 0.6821\n",
      "Train F1 (macro): 0.6300\n",
      "\n",
      "Test Accuracy: 0.6777\n",
      "Test F1 (macro): 0.6279\n",
      "\n",
      "Epoch 24\n",
      "Train Loss: 0.5674\n",
      "Train Accuracy: 0.6816\n",
      "Train F1 (macro): 0.6340\n",
      "\n",
      "Test Accuracy: 0.6748\n",
      "Test F1 (macro): 0.6259\n",
      "\n",
      "Epoch 25\n",
      "Train Loss: 0.6034\n",
      "Train Accuracy: 0.6770\n",
      "Train F1 (macro): 0.6284\n",
      "\n",
      "Test Accuracy: 0.6777\n",
      "Test F1 (macro): 0.6239\n"
     ]
    }
   ],
   "source": [
    "# Training loop\n",
    "for epoch in range(epochs):\n",
    "    model.train()\n",
    "    train_preds, train_labels = [], []\n",
    "\n",
    "    for batch in train_loader:\n",
    "        # Move batch to device\n",
    "        input_ids = batch[\"input_ids\"].to(device)\n",
    "        attention_mask = batch[\"attention_mask\"].to(device)\n",
    "        labels = batch[\"labels\"].to(device)\n",
    "\n",
    "        optimizer.zero_grad()\n",
    "        logits, loss = model(input_ids, attention_mask, labels)\n",
    "        loss.backward()\n",
    "        optimizer.step()\n",
    "\n",
    "        preds = torch.argmax(logits, dim=1)\n",
    "        train_preds.extend(preds.cpu().numpy())\n",
    "        train_labels.extend(labels.cpu().numpy())\n",
    "\n",
    "    # Compute training metrics\n",
    "    acc = accuracy_score(train_labels, train_preds)\n",
    "    prec = precision_score(train_labels, train_preds, average='macro')\n",
    "    rec = recall_score(train_labels, train_preds, average='macro')\n",
    "    f1 = f1_score(train_labels, train_preds, average='macro')\n",
    "    f1_weighted = f1_score(train_labels, train_preds, average='weighted')\n",
    "\n",
    "    print(f\"\\nEpoch {epoch+1}\")\n",
    "    print(f\"Train Loss: {loss.item():.4f}\")\n",
    "    print(f\"Train Accuracy: {acc:.4f}\")\n",
    "    print(f\"Train F1 (macro): {f1:.4f}\")\n",
    "    \n",
    "    wandb.log({\n",
    "        \"epoch\": epoch + 1,\n",
    "        \"train_loss\": loss.item(),\n",
    "        \"train_accuracy\": acc,\n",
    "        \"train_precision_macro\": prec,\n",
    "        \"train_recall_macro\": rec,\n",
    "        \"train_f1_macro\": f1,\n",
    "        \"train_f1_weighted\": f1_weighted\n",
    "    })\n",
    "\n",
    "    # Evaluation on the validation set\n",
    "    model.eval()\n",
    "    all_preds, all_labels = [], []\n",
    "\n",
    "    with torch.no_grad():\n",
    "        for batch in val_loader:\n",
    "            input_ids = batch[\"input_ids\"].to(device)\n",
    "            attention_mask = batch[\"attention_mask\"].to(device)\n",
    "            labels = batch[\"labels\"].to(device)\n",
    "\n",
    "            logits = model(input_ids, attention_mask)\n",
    "            preds = torch.argmax(logits, dim=1)\n",
    "\n",
    "            all_preds.extend(preds.cpu().numpy())\n",
    "            all_labels.extend(labels.cpu().numpy())\n",
    "\n",
    "\n",
    "    # Compute test metrics\n",
    "    acc = accuracy_score(all_labels, all_preds)\n",
    "    prec = precision_score(all_labels, all_preds, average='macro')\n",
    "    rec = recall_score(all_labels, all_preds, average='macro')\n",
    "    f1 = f1_score(all_labels, all_preds, average='macro')\n",
    "    f1_weighted = f1_score(all_labels, all_preds, average='weighted')\n",
    "\n",
    "    print(f\"\\nTest Accuracy: {acc:.4f}\")\n",
    "    print(f\"Test F1 (macro): {f1:.4f}\")\n",
    "\n",
    "\n",
    "    wandb.log({\n",
    "        \"val_accuracy\": acc,\n",
    "        \"val_precision_macro\": prec,\n",
    "        \"val_recall_macro\": rec,\n",
    "        \"val_f1_macro\": f1,\n",
    "        \"val_f1_weighted\": f1_weighted\n",
    "    })"
   ]
  },
  {
   "cell_type": "markdown",
   "id": "198b4b0a",
   "metadata": {},
   "source": [
    "## Testing of model"
   ]
  },
  {
   "cell_type": "code",
   "execution_count": 9,
   "id": "c821845d",
   "metadata": {},
   "outputs": [
    {
     "name": "stdout",
     "output_type": "stream",
     "text": [
      "\n",
      "--- Test Results ---\n",
      "Test Accuracy: 0.7971\n",
      "Test F1 (macro): 0.6619\n"
     ]
    }
   ],
   "source": [
    "# Evaluation on the test set\n",
    "model.eval()\n",
    "all_preds, all_labels = [], []\n",
    "\n",
    "with torch.no_grad():\n",
    "    for batch in test_loader:\n",
    "        input_ids = batch[\"input_ids\"].to(device)\n",
    "        attention_mask = batch[\"attention_mask\"].to(device)\n",
    "        labels = batch[\"labels\"].to(device)\n",
    "\n",
    "        logits = model(input_ids, attention_mask)\n",
    "        preds = torch.argmax(logits, dim=1)\n",
    "\n",
    "        all_preds.extend(preds.cpu().numpy())\n",
    "        all_labels.extend(labels.cpu().numpy())\n",
    "\n",
    "# Compute test metrics\n",
    "acc = accuracy_score(all_labels, all_preds)\n",
    "prec = precision_score(all_labels, all_preds, average='macro')\n",
    "rec = recall_score(all_labels, all_preds, average='macro')\n",
    "f1 = f1_score(all_labels, all_preds, average='macro')\n",
    "f1_weighted = f1_score(all_labels, all_preds, average='weighted')\n",
    "\n",
    "print(f\"\\n--- Test Results ---\")\n",
    "print(f\"Test Accuracy: {acc:.4f}\")\n",
    "print(f\"Test F1 (macro): {f1:.4f}\")\n",
    "\n",
    "wandb.log({\n",
    "        \"test_accuracy\": acc,\n",
    "        \"test_precision_macro\": prec,\n",
    "        \"test_recall_macro\": rec,\n",
    "        \"test_f1_macro\": f1,\n",
    "        \"test_f1_weighted\": f1_weighted\n",
    "    })"
   ]
  },
  {
   "cell_type": "code",
   "execution_count": 10,
   "id": "3750aab3-4b20-43bc-b7cf-00d897c050d1",
   "metadata": {},
   "outputs": [
    {
     "data": {
      "text/html": [],
      "text/plain": [
       "<IPython.core.display.HTML object>"
      ]
     },
     "metadata": {},
     "output_type": "display_data"
    },
    {
     "data": {
      "text/html": [
       "<br>    <style><br>        .wandb-row {<br>            display: flex;<br>            flex-direction: row;<br>            flex-wrap: wrap;<br>            justify-content: flex-start;<br>            width: 100%;<br>        }<br>        .wandb-col {<br>            display: flex;<br>            flex-direction: column;<br>            flex-basis: 100%;<br>            flex: 1;<br>            padding: 10px;<br>        }<br>    </style><br><div class=\"wandb-row\"><div class=\"wandb-col\"><h3>Run history:</h3><br/><table class=\"wandb\"><tr><td>epoch</td><td>▁▁▂▂▂▂▃▃▃▄▄▄▅▅▅▅▆▆▆▇▇▇▇██</td></tr><tr><td>test_accuracy</td><td>▁</td></tr><tr><td>test_f1_macro</td><td>▁</td></tr><tr><td>test_f1_weighted</td><td>▁</td></tr><tr><td>test_precision_macro</td><td>▁</td></tr><tr><td>test_recall_macro</td><td>▁</td></tr><tr><td>train_accuracy</td><td>▁▁▁▂▃▄▅▆▆▆▅▆▇▇▇▇▇▇▆▇▇▇██▇</td></tr><tr><td>train_f1_macro</td><td>▁▁▂▃▅▅▆▆▇▇▇▇▇▇▇██▇▇██████</td></tr><tr><td>train_f1_weighted</td><td>▁▁▂▃▅▅▆▆▇▇▇▇▇▇▇██▇▇██▇███</td></tr><tr><td>train_loss</td><td>▅█▇▅▄▃▄▇▂▇▆▂▁█▂▇▆▄▃▂▆▆▂▃▄</td></tr><tr><td>train_precision_macro</td><td>▄▄▁▄▃▅▆▆▇▆▅▅▇▇▆▇▇▇▆▇▇▆██▇</td></tr><tr><td>train_recall_macro</td><td>▁▁▂▃▄▄▅▆▆▆▆▆▇▇▇▇▇▇▇▇█▇███</td></tr><tr><td>val_accuracy</td><td>▁▁▂▅▇▆▆▆▅▇▇▆▇▆▆▇▇▆▇▇█████</td></tr><tr><td>val_f1_macro</td><td>▁▁▂▅▇▆▆▆▅▇▇██▆██▆▆█████▇▇</td></tr><tr><td>val_f1_weighted</td><td>▁▁▂▅▇▆▇▆▅▇███▆██▇▆███████</td></tr><tr><td>val_precision_macro</td><td>▁██▇▇▇▇▇▇▇▇▆▇▇▆▇▇▇▇▇▇▇▇▇▇</td></tr><tr><td>val_recall_macro</td><td>▁▁▂▄▆▅▆▅▄▇▇█▇▅▇▇▆▅██▇▇▇▇▇</td></tr></table><br/></div><div class=\"wandb-col\"><h3>Run summary:</h3><br/><table class=\"wandb\"><tr><td>epoch</td><td>25</td></tr><tr><td>test_accuracy</td><td>0.79705</td></tr><tr><td>test_f1_macro</td><td>0.66189</td></tr><tr><td>test_f1_weighted</td><td>0.76887</td></tr><tr><td>test_precision_macro</td><td>0.75438</td></tr><tr><td>test_recall_macro</td><td>0.64123</td></tr><tr><td>train_accuracy</td><td>0.677</td></tr><tr><td>train_f1_macro</td><td>0.62842</td></tr><tr><td>train_f1_weighted</td><td>0.65893</td></tr><tr><td>train_loss</td><td>0.60339</td></tr><tr><td>train_precision_macro</td><td>0.66008</td></tr><tr><td>train_recall_macro</td><td>0.62724</td></tr><tr><td>val_accuracy</td><td>0.67768</td></tr><tr><td>val_f1_macro</td><td>0.6239</td></tr><tr><td>val_f1_weighted</td><td>0.6563</td></tr><tr><td>val_precision_macro</td><td>0.66301</td></tr><tr><td>val_recall_macro</td><td>0.62392</td></tr></table><br/></div></div>"
      ],
      "text/plain": [
       "<IPython.core.display.HTML object>"
      ]
     },
     "metadata": {},
     "output_type": "display_data"
    },
    {
     "data": {
      "text/html": [
       " View run <strong style=\"color:#cdcd00\">hopeful-lion-5</strong> at: <a href='https://wandb.ai/natalia-timokhova-v-lule-university-of-technology/roberta-classifier/runs/zcl5qkjk' target=\"_blank\">https://wandb.ai/natalia-timokhova-v-lule-university-of-technology/roberta-classifier/runs/zcl5qkjk</a><br> View project at: <a href='https://wandb.ai/natalia-timokhova-v-lule-university-of-technology/roberta-classifier' target=\"_blank\">https://wandb.ai/natalia-timokhova-v-lule-university-of-technology/roberta-classifier</a><br>Synced 5 W&B file(s), 1 media file(s), 0 artifact file(s) and 0 other file(s)"
      ],
      "text/plain": [
       "<IPython.core.display.HTML object>"
      ]
     },
     "metadata": {},
     "output_type": "display_data"
    },
    {
     "data": {
      "text/html": [
       "Find logs at: <code>./wandb/run-20250509_162548-zcl5qkjk/logs</code>"
      ],
      "text/plain": [
       "<IPython.core.display.HTML object>"
      ]
     },
     "metadata": {},
     "output_type": "display_data"
    },
    {
     "data": {
      "image/png": "[encoded data removed]",
      "text/plain": [
       "<Figure size 600x400 with 2 Axes>"
      ]
     },
     "metadata": {},
     "output_type": "display_data"
    }
   ],
   "source": [
    "cm = confusion_matrix(all_labels, all_preds)\n",
    "fig = plt.figure(figsize=(6,4))\n",
    "sns.heatmap(cm, annot=True, fmt=\"d\")\n",
    "wandb.log({\"confusion_matrix\": wandb.Image(fig)})\n",
    "wandb.finish()"
   ]
  }
 ],
 "metadata": {
  "kernelspec": {
   "display_name": "adl",
   "language": "python",
   "name": "python3"
  },
  "language_info": {
   "codemirror_mode": {
    "name": "ipython",
    "version": 3
   },
   "file_extension": ".py",
   "mimetype": "text/x-python",
   "name": "python",
   "nbconvert_exporter": "python",
   "pygments_lexer": "ipython3",
   "version": "3.8.20"
  }
 },
 "nbformat": 4,
 "nbformat_minor": 5
}
