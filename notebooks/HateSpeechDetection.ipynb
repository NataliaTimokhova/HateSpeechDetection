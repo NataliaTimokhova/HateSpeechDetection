{
 "cells": [
  {
   "cell_type": "markdown",
   "id": "4e76a0e7-e90e-457e-8dc4-81cc472f2f1e",
   "metadata": {},
   "source": [
    "The goal of this project is to use the pretrained RoBERTa transformer as a feature extractor with a costum classification head to determine if text messages are offensive or not."
   ]
  },
  {
   "cell_type": "code",
   "execution_count": 1,
   "id": "cfbb6aaa",
   "metadata": {},
   "outputs": [],
   "source": [
    "import pandas as pd\n",
    "import torch\n",
    "import torch.nn as nn\n",
    "from torch.utils.data import Dataset, DataLoader\n",
    "\n",
    "from transformers import AutoTokenizer, AutoModel, AutoModelForSequenceClassification, AutoConfig\n",
    "\n",
    "from sklearn.model_selection import train_test_split\n",
    "from sklearn.metrics import accuracy_score, precision_score, recall_score, f1_score\n",
    "from sklearn.metrics import confusion_matrix\n",
    "\n",
    "import seaborn as sns\n",
    "import matplotlib.pyplot as plt\n",
    "\n",
    "import wandb\n",
    "\n",
    "import sys\n",
    "from pathlib import Path\n",
    "\n",
    "# Add src/ to path (once, so imports work)\n",
    "sys.path.append(str(Path().resolve().parent / \"src\"))\n",
    "\n",
    "from paths import DATA_CLEANED\n",
    "from paths import DATA_PROCESSED\n",
    "\n",
    "from helper_functions import train_model\n",
    "from helper_functions import test_model"
   ]
  },
  {
   "cell_type": "markdown",
   "id": "f040a974",
   "metadata": {},
   "source": [
    "## Using RoBERTa as a feature extractor with a costum classification head"
   ]
  },
  {
   "cell_type": "markdown",
   "id": "0ee4da52",
   "metadata": {},
   "source": [
    "Found this pretrained model online: cardiffnlp/twitter-roberta-base-sentiment-latest (https://huggingface.co/cardiffnlp/twitter-roberta-base-sentiment-latest)\n",
    "\n",
    "It is already pretrained on twitter messages. "
   ]
  },
  {
   "cell_type": "markdown",
   "id": "f82d5297-ec56-4954-91d1-7b650e5b16f0",
   "metadata": {},
   "source": [
    "Define experiment scope:"
   ]
  },
  {
   "cell_type": "code",
   "execution_count": 2,
   "id": "3ad28b13-1a6b-4331-bc4b-37b863df796a",
   "metadata": {},
   "outputs": [],
   "source": [
    "# here we are just using the labels of the first task of the HASOC dataset, which is a binary classification\n",
    "label = \"task_1\""
   ]
  },
  {
   "cell_type": "markdown",
   "id": "1dc731c7",
   "metadata": {},
   "source": [
    "Define which pretrained model is used and initilise tokenizer"
   ]
  },
  {
   "cell_type": "code",
   "execution_count": 3,
   "id": "669dc7c9",
   "metadata": {},
   "outputs": [],
   "source": [
    "model_name = 'roberta-base'\n",
    "\n",
    "tokenizer = AutoTokenizer.from_pretrained(model_name)"
   ]
  },
  {
   "cell_type": "markdown",
   "id": "ce20ed5c",
   "metadata": {},
   "source": [
    "Classification head"
   ]
  },
  {
   "cell_type": "code",
   "execution_count": 4,
   "id": "197cc0f8",
   "metadata": {},
   "outputs": [],
   "source": [
    "class CustomClassifier(nn.Module):\n",
    "    def __init__(self, model_name, pooling='cls'):\n",
    "        super().__init__()\n",
    "        self.pooling = pooling.lower()\n",
    "        self.base = AutoModel.from_pretrained(model_name)\n",
    "        config = AutoConfig.from_pretrained(model_name)\n",
    "        hidden_size = config.hidden_size  # Dynamically get the model's hidden size\n",
    "\n",
    "        \n",
    "        print(hidden_size)\n",
    "        \n",
    "        # Freeze all parameters of the base model\n",
    "        for param in self.base.parameters():\n",
    "            param.requires_grad = False\n",
    "\n",
    "        # Custom classification head\n",
    "        self.classifier = nn.Sequential(\n",
    "            nn.Linear(hidden_size, 128),\n",
    "            nn.ReLU(),\n",
    "            nn.Dropout(0.1),\n",
    "            nn.Linear(128, 2)\n",
    "        )\n",
    "\n",
    "    def forward(self, input_ids, attention_mask, labels=None):\n",
    "        outputs = self.base(input_ids=input_ids, attention_mask=attention_mask)\n",
    "\n",
    "        # Pooling strategy: either CLS token or mean pooling over token embeddings\n",
    "        if self.pooling == 'mean':\n",
    "            token_embeddings = outputs.last_hidden_state\n",
    "            input_mask_expanded = attention_mask.unsqueeze(-1).expand(token_embeddings.size())\n",
    "            sum_embeddings = torch.sum(token_embeddings * input_mask_expanded, 1)\n",
    "            sum_mask = input_mask_expanded.sum(1).clamp(min=1e-9)\n",
    "            pooled = sum_embeddings / sum_mask\n",
    "        else:\n",
    "            pooled = outputs.last_hidden_state[:, 0, :]  # CLS token\n",
    "\n",
    "        logits = self.classifier(pooled)\n",
    "\n",
    "        # If labels are provided, calculate the loss\n",
    "        if labels is not None:\n",
    "            loss_fn = nn.CrossEntropyLoss()\n",
    "            loss = loss_fn(logits, labels)\n",
    "            return logits, loss\n",
    "\n",
    "        return logits"
   ]
  },
  {
   "cell_type": "markdown",
   "id": "20bb86e8",
   "metadata": {},
   "source": [
    "## Load HASOC dataset for training, validation and testing"
   ]
  },
  {
   "cell_type": "code",
   "execution_count": 5,
   "id": "2f76fc4b",
   "metadata": {},
   "outputs": [],
   "source": [
    "# Load training and test data\n",
    "clean_df = pd.read_csv(DATA_CLEANED / \"hasoc_2019_en_train_cleaned.tsv\", sep='\\t')\n",
    "test_df = pd.read_csv(DATA_PROCESSED / \"hasoc_2019_en_test.tsv\", sep='\\t')\n",
    "\n",
    "# Split clean dataset in training and validation set\n",
    "train_df, val_df = train_test_split(clean_df, test_size=0.3, random_state=42, stratify=clean_df[label])\n",
    "\n",
    "# Automatically map string labels to integers\n",
    "label_list = sorted(train_df[label].unique())\n",
    "label_map = {label: idx for idx, label in enumerate(label_list)}\n",
    "\n",
    "train_df[label] = train_df[label].map(label_map)\n",
    "val_df[label] = val_df[label].map(label_map)\n",
    "test_df[label] = test_df[label].map(label_map)\n",
    "\n",
    "# Custom Dataset Class\n",
    "class HateSpeechDataset(Dataset):\n",
    "    def __init__(self, df, tokenizer, label = 'label', max_len=128):\n",
    "        self.texts = df[\"text\"].tolist()\n",
    "        self.labels = df[label].tolist()\n",
    "        self.encodings = tokenizer(self.texts, padding=True, truncation=True, max_length=max_len)\n",
    "\n",
    "    def __getitem__(self, idx):\n",
    "        item = {key: torch.tensor(val[idx]) for key, val in self.encodings.items()}\n",
    "        item['labels'] = torch.tensor(self.labels[idx])\n",
    "        return item\n",
    "\n",
    "    def __len__(self):\n",
    "        return len(self.labels)\n",
    "\n",
    "# Create PyTorch Datasets and DataLoaders\n",
    "train_dataset = HateSpeechDataset(train_df, tokenizer, label=label)\n",
    "val_dataset = HateSpeechDataset(val_df, tokenizer, label=label)\n",
    "test_dataset = HateSpeechDataset(test_df, tokenizer, label=label)\n",
    "\n",
    "train_loader = DataLoader(train_dataset, batch_size=16, shuffle=True)\n",
    "val_loader = DataLoader(val_dataset, batch_size=16)\n",
    "test_loader = DataLoader(test_dataset, batch_size=32)"
   ]
  },
  {
   "cell_type": "markdown",
   "id": "2fd402e6",
   "metadata": {},
   "source": [
    "## Training and evaluation of model"
   ]
  },
  {
   "cell_type": "code",
   "execution_count": 6,
   "id": "456ec3ec-d7e1-47ad-a9f1-57dac6011ebd",
   "metadata": {
    "collapsed": true,
    "jupyter": {
     "outputs_hidden": true
    }
   },
   "outputs": [
    {
     "name": "stderr",
     "output_type": "stream",
     "text": [
      "2025-05-09 17:27:53.302279: I tensorflow/core/util/port.cc:153] oneDNN custom operations are on. You may see slightly different numerical results due to floating-point round-off errors from different computation orders. To turn them off, set the environment variable `TF_ENABLE_ONEDNN_OPTS=0`.\n",
      "2025-05-09 17:27:53.318066: E external/local_xla/xla/stream_executor/cuda/cuda_fft.cc:467] Unable to register cuFFT factory: Attempting to register factory for plugin cuFFT when one has already been registered\n",
      "WARNING: All log messages before absl::InitializeLog() is called are written to STDERR\n",
      "E0000 00:00:1746804473.337081   35336 cuda_dnn.cc:8579] Unable to register cuDNN factory: Attempting to register factory for plugin cuDNN when one has already been registered\n",
      "E0000 00:00:1746804473.343054   35336 cuda_blas.cc:1407] Unable to register cuBLAS factory: Attempting to register factory for plugin cuBLAS when one has already been registered\n",
      "W0000 00:00:1746804473.357381   35336 computation_placer.cc:177] computation placer already registered. Please check linkage and avoid linking the same target more than once.\n",
      "W0000 00:00:1746804473.357396   35336 computation_placer.cc:177] computation placer already registered. Please check linkage and avoid linking the same target more than once.\n",
      "W0000 00:00:1746804473.357397   35336 computation_placer.cc:177] computation placer already registered. Please check linkage and avoid linking the same target more than once.\n",
      "W0000 00:00:1746804473.357399   35336 computation_placer.cc:177] computation placer already registered. Please check linkage and avoid linking the same target more than once.\n",
      "2025-05-09 17:27:53.362521: I tensorflow/core/platform/cpu_feature_guard.cc:210] This TensorFlow binary is optimized to use available CPU instructions in performance-critical operations.\n",
      "To enable the following instructions: AVX2 AVX512F AVX512_VNNI FMA, in other operations, rebuild TensorFlow with the appropriate compiler flags.\n",
      "Some weights of RobertaModel were not initialized from the model checkpoint at roberta-base and are newly initialized: ['pooler.dense.bias', 'pooler.dense.weight']\n",
      "You should probably TRAIN this model on a down-stream task to be able to use it for predictions and inference.\n"
     ]
    },
    {
     "name": "stdout",
     "output_type": "stream",
     "text": [
      "768\n"
     ]
    }
   ],
   "source": [
    "# Use GPU if available\n",
    "device = torch.device(\"cuda\" if torch.cuda.is_available() else \"cpu\")\n",
    "\n",
    "# Initialize model\n",
    "model = CustomClassifier(model_name, pooling=\"cls\").to(device)\n",
    "\n",
    "# Optimizer only for the classification head\n",
    "optimizer = torch.optim.AdamW(model.classifier.parameters(), lr=2e-4)\n",
    "epochs = 50"
   ]
  },
  {
   "cell_type": "code",
   "execution_count": 7,
   "id": "c5445349-d36a-4138-bc0f-f2dd004fe549",
   "metadata": {},
   "outputs": [
    {
     "name": "stderr",
     "output_type": "stream",
     "text": [
      "\u001b[34m\u001b[1mwandb\u001b[0m: Using wandb-core as the SDK backend.  Please refer to https://wandb.me/wandb-core for more information.\n",
      "\u001b[34m\u001b[1mwandb\u001b[0m: Currently logged in as: \u001b[33mnatalia-timokhova-v\u001b[0m (\u001b[33mnatalia-timokhova-v-lule-university-of-technology\u001b[0m) to \u001b[32mhttps://api.wandb.ai\u001b[0m. Use \u001b[1m`wandb login --relogin`\u001b[0m to force relogin\n"
     ]
    },
    {
     "data": {
      "text/html": [
       "Tracking run with wandb version 0.19.9"
      ],
      "text/plain": [
       "<IPython.core.display.HTML object>"
      ]
     },
     "metadata": {},
     "output_type": "display_data"
    },
    {
     "data": {
      "text/html": [
       "Run data is saved locally in <code>/Project/notebooks/wandb/run-20250509_172756-pn9x3qo0</code>"
      ],
      "text/plain": [
       "<IPython.core.display.HTML object>"
      ]
     },
     "metadata": {},
     "output_type": "display_data"
    },
    {
     "data": {
      "text/html": [
       "Syncing run <strong><a href='https://wandb.ai/natalia-timokhova-v-lule-university-of-technology/roberta-classifier/runs/pn9x3qo0' target=\"_blank\">snowy-microwave-14</a></strong> to <a href='https://wandb.ai/natalia-timokhova-v-lule-university-of-technology/roberta-classifier' target=\"_blank\">Weights & Biases</a> (<a href='https://wandb.me/developer-guide' target=\"_blank\">docs</a>)<br>"
      ],
      "text/plain": [
       "<IPython.core.display.HTML object>"
      ]
     },
     "metadata": {},
     "output_type": "display_data"
    },
    {
     "data": {
      "text/html": [
       " View project at <a href='https://wandb.ai/natalia-timokhova-v-lule-university-of-technology/roberta-classifier' target=\"_blank\">https://wandb.ai/natalia-timokhova-v-lule-university-of-technology/roberta-classifier</a>"
      ],
      "text/plain": [
       "<IPython.core.display.HTML object>"
      ]
     },
     "metadata": {},
     "output_type": "display_data"
    },
    {
     "data": {
      "text/html": [
       " View run at <a href='https://wandb.ai/natalia-timokhova-v-lule-university-of-technology/roberta-classifier/runs/pn9x3qo0' target=\"_blank\">https://wandb.ai/natalia-timokhova-v-lule-university-of-technology/roberta-classifier/runs/pn9x3qo0</a>"
      ],
      "text/plain": [
       "<IPython.core.display.HTML object>"
      ]
     },
     "metadata": {},
     "output_type": "display_data"
    },
    {
     "data": {
      "text/html": [
       "<button onClick=\"this.nextSibling.style.display='block';this.style.display='none';\">Display W&B run</button><iframe src='https://wandb.ai/natalia-timokhova-v-lule-university-of-technology/roberta-classifier/runs/pn9x3qo0?jupyter=true' style='border:none;width:100%;height:420px;display:none;'></iframe>"
      ],
      "text/plain": [
       "<wandb.sdk.wandb_run.Run at 0x7eff19e4ea10>"
      ]
     },
     "execution_count": 7,
     "metadata": {},
     "output_type": "execute_result"
    }
   ],
   "source": [
    "wandb.init(project=\"roberta-classifier\", config={\n",
    "    \"model\": model_name,\n",
    "    \"pooling\": \"cls\",\n",
    "    \"epochs\": epochs,\n",
    "    \"lr\": 2e-4,\n",
    "    \"frozen_base\": True\n",
    "})"
   ]
  },
  {
   "cell_type": "code",
   "execution_count": 8,
   "id": "781a9824-c9d1-44a9-ae3a-70399e220e96",
   "metadata": {
    "collapsed": true,
    "jupyter": {
     "outputs_hidden": true
    }
   },
   "outputs": [
    {
     "name": "stdout",
     "output_type": "stream",
     "text": [
      "\n",
      "Epoch 1\n",
      "Training Loss: 0.6681\n",
      "Train Accuracy: 0.6074\n",
      "Train F1 (macro): 0.3964\n",
      "\n"
     ]
    },
    {
     "name": "stderr",
     "output_type": "stream",
     "text": [
      "/usr/local/lib/python3.11/dist-packages/sklearn/metrics/_classification.py:1565: UndefinedMetricWarning: Precision is ill-defined and being set to 0.0 in labels with no predicted samples. Use `zero_division` parameter to control this behavior.\n",
      "  _warn_prf(average, modifier, f\"{metric.capitalize()} is\", len(result))\n"
     ]
    },
    {
     "name": "stdout",
     "output_type": "stream",
     "text": [
      "Val Loss: 0.6584\n",
      "Val Accuracy: 0.6139\n",
      "Val F1 (macro): 0.3804\n",
      "\n",
      "\n",
      "Epoch 2\n",
      "Training Loss: 0.6569\n",
      "Train Accuracy: 0.6150\n",
      "Train F1 (macro): 0.4160\n",
      "\n",
      "Val Loss: 0.6510\n",
      "Val Accuracy: 0.6253\n",
      "Val F1 (macro): 0.4411\n",
      "\n",
      "\n",
      "Epoch 3\n",
      "Training Loss: 0.6458\n",
      "Train Accuracy: 0.6233\n",
      "Train F1 (macro): 0.4527\n",
      "\n",
      "Val Loss: 0.6414\n",
      "Val Accuracy: 0.6247\n",
      "Val F1 (macro): 0.4261\n",
      "\n",
      "\n",
      "Epoch 4\n",
      "Training Loss: 0.6392\n",
      "Train Accuracy: 0.6272\n",
      "Train F1 (macro): 0.4687\n",
      "\n",
      "Val Loss: 0.6355\n",
      "Val Accuracy: 0.6543\n",
      "Val F1 (macro): 0.5456\n",
      "\n",
      "\n",
      "Epoch 5\n",
      "Training Loss: 0.6386\n",
      "Train Accuracy: 0.6362\n",
      "Train F1 (macro): 0.5024\n",
      "\n",
      "Val Loss: 0.6340\n",
      "Val Accuracy: 0.6629\n",
      "Val F1 (macro): 0.5938\n",
      "\n",
      "\n",
      "Epoch 6\n",
      "Training Loss: 0.6281\n",
      "Train Accuracy: 0.6531\n",
      "Train F1 (macro): 0.5460\n",
      "\n",
      "Val Loss: 0.6282\n",
      "Val Accuracy: 0.6663\n",
      "Val F1 (macro): 0.6024\n",
      "\n",
      "\n",
      "Epoch 7\n",
      "Training Loss: 0.6271\n",
      "Train Accuracy: 0.6492\n",
      "Train F1 (macro): 0.5457\n",
      "\n",
      "Val Loss: 0.6239\n",
      "Val Accuracy: 0.6458\n",
      "Val F1 (macro): 0.5077\n",
      "\n",
      "\n",
      "Epoch 8\n",
      "Training Loss: 0.6222\n",
      "Train Accuracy: 0.6553\n",
      "Train F1 (macro): 0.5655\n",
      "\n",
      "Val Loss: 0.6209\n",
      "Val Accuracy: 0.6640\n",
      "Val F1 (macro): 0.5992\n",
      "\n",
      "\n",
      "Epoch 9\n",
      "Training Loss: 0.6183\n",
      "Train Accuracy: 0.6543\n",
      "Train F1 (macro): 0.5697\n",
      "\n",
      "Val Loss: 0.6178\n",
      "Val Accuracy: 0.6680\n",
      "Val F1 (macro): 0.6108\n",
      "\n",
      "\n",
      "Epoch 10\n",
      "Training Loss: 0.6179\n",
      "Train Accuracy: 0.6663\n",
      "Train F1 (macro): 0.5992\n",
      "\n",
      "Val Loss: 0.6162\n",
      "Val Accuracy: 0.6612\n",
      "Val F1 (macro): 0.5634\n",
      "\n",
      "\n",
      "Epoch 11\n",
      "Training Loss: 0.6164\n",
      "Train Accuracy: 0.6614\n",
      "Train F1 (macro): 0.5910\n",
      "\n",
      "Val Loss: 0.6157\n",
      "Val Accuracy: 0.6686\n",
      "Val F1 (macro): 0.6286\n",
      "\n",
      "\n",
      "Epoch 12\n",
      "Training Loss: 0.6154\n",
      "Train Accuracy: 0.6643\n",
      "Train F1 (macro): 0.6007\n",
      "\n",
      "Val Loss: 0.6149\n",
      "Val Accuracy: 0.6720\n",
      "Val F1 (macro): 0.6343\n",
      "\n",
      "\n",
      "Epoch 13\n",
      "Training Loss: 0.6102\n",
      "Train Accuracy: 0.6670\n",
      "Train F1 (macro): 0.6052\n",
      "\n",
      "Val Loss: 0.6118\n",
      "Val Accuracy: 0.6691\n",
      "Val F1 (macro): 0.5989\n",
      "\n",
      "\n",
      "Epoch 14\n",
      "Training Loss: 0.6076\n",
      "Train Accuracy: 0.6716\n",
      "Train F1 (macro): 0.6170\n",
      "\n",
      "Val Loss: 0.6162\n",
      "Val Accuracy: 0.6669\n",
      "Val F1 (macro): 0.6378\n",
      "\n",
      "\n",
      "Epoch 15\n",
      "Training Loss: 0.6068\n",
      "Train Accuracy: 0.6758\n",
      "Train F1 (macro): 0.6206\n",
      "\n",
      "Val Loss: 0.6142\n",
      "Val Accuracy: 0.6606\n",
      "Val F1 (macro): 0.5653\n",
      "\n",
      "\n",
      "Epoch 16\n",
      "Training Loss: 0.6042\n",
      "Train Accuracy: 0.6697\n",
      "Train F1 (macro): 0.6108\n",
      "\n",
      "Val Loss: 0.6117\n",
      "Val Accuracy: 0.6697\n",
      "Val F1 (macro): 0.6377\n",
      "\n",
      "\n",
      "Epoch 17\n",
      "Training Loss: 0.6063\n",
      "Train Accuracy: 0.6711\n",
      "Train F1 (macro): 0.6187\n",
      "\n",
      "Val Loss: 0.6121\n",
      "Val Accuracy: 0.6708\n",
      "Val F1 (macro): 0.6397\n",
      "\n",
      "\n",
      "Epoch 18\n",
      "Training Loss: 0.6083\n",
      "Train Accuracy: 0.6731\n",
      "Train F1 (macro): 0.6198\n",
      "\n",
      "Val Loss: 0.6087\n",
      "Val Accuracy: 0.6754\n",
      "Val F1 (macro): 0.6165\n",
      "\n",
      "\n",
      "Epoch 19\n",
      "Training Loss: 0.6035\n",
      "Train Accuracy: 0.6831\n",
      "Train F1 (macro): 0.6319\n",
      "\n",
      "Val Loss: 0.6077\n",
      "Val Accuracy: 0.6743\n",
      "Val F1 (macro): 0.6168\n",
      "\n",
      "\n",
      "Epoch 20\n",
      "Training Loss: 0.6053\n",
      "Train Accuracy: 0.6672\n",
      "Train F1 (macro): 0.6147\n",
      "\n",
      "Val Loss: 0.6087\n",
      "Val Accuracy: 0.6748\n",
      "Val F1 (macro): 0.6434\n",
      "\n",
      "\n",
      "Epoch 21\n",
      "Training Loss: 0.6030\n",
      "Train Accuracy: 0.6802\n",
      "Train F1 (macro): 0.6333\n",
      "\n",
      "Val Loss: 0.6120\n",
      "Val Accuracy: 0.6743\n",
      "Val F1 (macro): 0.6494\n",
      "\n",
      "\n",
      "Epoch 22\n",
      "Training Loss: 0.6054\n",
      "Train Accuracy: 0.6626\n",
      "Train F1 (macro): 0.6130\n",
      "\n",
      "Val Loss: 0.6075\n",
      "Val Accuracy: 0.6760\n",
      "Val F1 (macro): 0.6343\n",
      "\n",
      "\n",
      "Epoch 23\n",
      "Training Loss: 0.6007\n",
      "Train Accuracy: 0.6760\n",
      "Train F1 (macro): 0.6261\n",
      "\n",
      "Val Loss: 0.6080\n",
      "Val Accuracy: 0.6800\n",
      "Val F1 (macro): 0.6463\n",
      "\n",
      "\n",
      "Epoch 24\n",
      "Training Loss: 0.6015\n",
      "Train Accuracy: 0.6772\n",
      "Train F1 (macro): 0.6294\n",
      "\n",
      "Val Loss: 0.6082\n",
      "Val Accuracy: 0.6748\n",
      "Val F1 (macro): 0.6364\n",
      "\n",
      "\n",
      "Epoch 25\n",
      "Training Loss: 0.6016\n",
      "Train Accuracy: 0.6758\n",
      "Train F1 (macro): 0.6305\n",
      "\n",
      "Val Loss: 0.6068\n",
      "Val Accuracy: 0.6760\n",
      "Val F1 (macro): 0.6293\n",
      "\n",
      "\n",
      "Epoch 26\n",
      "Training Loss: 0.6033\n",
      "Train Accuracy: 0.6721\n",
      "Train F1 (macro): 0.6237\n",
      "\n",
      "Val Loss: 0.6108\n",
      "Val Accuracy: 0.6714\n",
      "Val F1 (macro): 0.5899\n",
      "\n",
      "\n",
      "Epoch 27\n",
      "Training Loss: 0.5997\n",
      "Train Accuracy: 0.6790\n",
      "Train F1 (macro): 0.6299\n",
      "\n",
      "Val Loss: 0.6062\n",
      "Val Accuracy: 0.6805\n",
      "Val F1 (macro): 0.6442\n",
      "\n",
      "\n",
      "Epoch 28\n",
      "Training Loss: 0.5992\n",
      "Train Accuracy: 0.6833\n",
      "Train F1 (macro): 0.6365\n",
      "\n",
      "Val Loss: 0.6088\n",
      "Val Accuracy: 0.6697\n",
      "Val F1 (macro): 0.6421\n",
      "\n",
      "\n",
      "Epoch 29\n",
      "Training Loss: 0.6019\n",
      "Train Accuracy: 0.6743\n",
      "Train F1 (macro): 0.6253\n",
      "\n",
      "Val Loss: 0.6060\n",
      "Val Accuracy: 0.6805\n",
      "Val F1 (macro): 0.6425\n",
      "\n",
      "\n",
      "Epoch 30\n",
      "Training Loss: 0.5973\n",
      "Train Accuracy: 0.6833\n",
      "Train F1 (macro): 0.6351\n",
      "\n",
      "Val Loss: 0.6065\n",
      "Val Accuracy: 0.6760\n",
      "Val F1 (macro): 0.6403\n",
      "\n",
      "\n",
      "Epoch 31\n",
      "Training Loss: 0.5954\n",
      "Train Accuracy: 0.6855\n",
      "Train F1 (macro): 0.6404\n",
      "\n",
      "Val Loss: 0.6060\n",
      "Val Accuracy: 0.6805\n",
      "Val F1 (macro): 0.6445\n",
      "\n",
      "\n",
      "Epoch 32\n",
      "Training Loss: 0.5961\n",
      "Train Accuracy: 0.6802\n",
      "Train F1 (macro): 0.6355\n",
      "\n",
      "Val Loss: 0.6075\n",
      "Val Accuracy: 0.6731\n",
      "Val F1 (macro): 0.6075\n",
      "\n",
      "\n",
      "Epoch 33\n",
      "Training Loss: 0.6024\n",
      "Train Accuracy: 0.6777\n",
      "Train F1 (macro): 0.6331\n",
      "\n",
      "Val Loss: 0.6055\n",
      "Val Accuracy: 0.6800\n",
      "Val F1 (macro): 0.6350\n",
      "\n",
      "\n",
      "Epoch 34\n",
      "Training Loss: 0.5975\n",
      "Train Accuracy: 0.6846\n",
      "Train F1 (macro): 0.6371\n",
      "\n",
      "Val Loss: 0.6076\n",
      "Val Accuracy: 0.6731\n",
      "Val F1 (macro): 0.6453\n",
      "\n",
      "\n",
      "Epoch 35\n",
      "Training Loss: 0.5952\n",
      "Train Accuracy: 0.6760\n",
      "Train F1 (macro): 0.6295\n",
      "\n",
      "Val Loss: 0.6111\n",
      "Val Accuracy: 0.6708\n",
      "Val F1 (macro): 0.6490\n",
      "\n",
      "\n",
      "Epoch 36\n",
      "Training Loss: 0.5974\n",
      "Train Accuracy: 0.6812\n",
      "Train F1 (macro): 0.6356\n",
      "\n",
      "Val Loss: 0.6093\n",
      "Val Accuracy: 0.6737\n",
      "Val F1 (macro): 0.5958\n",
      "\n",
      "\n",
      "Epoch 37\n",
      "Training Loss: 0.5991\n",
      "Train Accuracy: 0.6807\n",
      "Train F1 (macro): 0.6369\n",
      "\n",
      "Val Loss: 0.6061\n",
      "Val Accuracy: 0.6760\n",
      "Val F1 (macro): 0.6174\n",
      "\n",
      "\n",
      "Epoch 38\n",
      "Training Loss: 0.5888\n",
      "Train Accuracy: 0.6887\n",
      "Train F1 (macro): 0.6453\n",
      "\n",
      "Val Loss: 0.6063\n",
      "Val Accuracy: 0.6737\n",
      "Val F1 (macro): 0.6131\n",
      "\n",
      "\n",
      "Epoch 39\n",
      "Training Loss: 0.5933\n",
      "Train Accuracy: 0.6802\n",
      "Train F1 (macro): 0.6352\n",
      "\n",
      "Val Loss: 0.6084\n",
      "Val Accuracy: 0.6714\n",
      "Val F1 (macro): 0.6471\n",
      "\n",
      "\n",
      "Epoch 40\n",
      "Training Loss: 0.5917\n",
      "Train Accuracy: 0.6831\n",
      "Train F1 (macro): 0.6370\n",
      "\n",
      "Val Loss: 0.6047\n",
      "Val Accuracy: 0.6811\n",
      "Val F1 (macro): 0.6370\n",
      "\n",
      "\n",
      "Epoch 41\n",
      "Training Loss: 0.5932\n",
      "Train Accuracy: 0.6763\n",
      "Train F1 (macro): 0.6313\n",
      "\n",
      "Val Loss: 0.6072\n",
      "Val Accuracy: 0.6737\n",
      "Val F1 (macro): 0.6048\n",
      "\n",
      "\n",
      "Epoch 42\n",
      "Training Loss: 0.5881\n",
      "Train Accuracy: 0.6846\n",
      "Train F1 (macro): 0.6395\n",
      "\n",
      "Val Loss: 0.6061\n",
      "Val Accuracy: 0.6782\n",
      "Val F1 (macro): 0.6205\n",
      "\n",
      "\n",
      "Epoch 43\n",
      "Training Loss: 0.5917\n",
      "Train Accuracy: 0.6860\n",
      "Train F1 (macro): 0.6446\n",
      "\n",
      "Val Loss: 0.6051\n",
      "Val Accuracy: 0.6777\n",
      "Val F1 (macro): 0.6394\n",
      "\n",
      "\n",
      "Epoch 44\n",
      "Training Loss: 0.5927\n",
      "Train Accuracy: 0.6819\n",
      "Train F1 (macro): 0.6401\n",
      "\n",
      "Val Loss: 0.6041\n",
      "Val Accuracy: 0.6811\n",
      "Val F1 (macro): 0.6393\n",
      "\n",
      "\n",
      "Epoch 45\n",
      "Training Loss: 0.5905\n",
      "Train Accuracy: 0.6765\n",
      "Train F1 (macro): 0.6323\n",
      "\n",
      "Val Loss: 0.6044\n",
      "Val Accuracy: 0.6788\n",
      "Val F1 (macro): 0.6264\n",
      "\n",
      "\n",
      "Epoch 46\n",
      "Training Loss: 0.5930\n",
      "Train Accuracy: 0.6768\n",
      "Train F1 (macro): 0.6300\n",
      "\n",
      "Val Loss: 0.6076\n",
      "Val Accuracy: 0.6754\n",
      "Val F1 (macro): 0.6423\n",
      "\n",
      "\n",
      "Epoch 47\n",
      "Training Loss: 0.5918\n",
      "Train Accuracy: 0.6897\n",
      "Train F1 (macro): 0.6461\n",
      "\n",
      "Val Loss: 0.6079\n",
      "Val Accuracy: 0.6737\n",
      "Val F1 (macro): 0.6495\n",
      "\n",
      "\n",
      "Epoch 48\n",
      "Training Loss: 0.5915\n",
      "Train Accuracy: 0.6802\n",
      "Train F1 (macro): 0.6377\n",
      "\n",
      "Val Loss: 0.6046\n",
      "Val Accuracy: 0.6765\n",
      "Val F1 (macro): 0.6146\n",
      "\n",
      "\n",
      "Epoch 49\n",
      "Training Loss: 0.5956\n",
      "Train Accuracy: 0.6858\n",
      "Train F1 (macro): 0.6433\n",
      "\n",
      "Val Loss: 0.6030\n",
      "Val Accuracy: 0.6737\n",
      "Val F1 (macro): 0.6191\n",
      "\n",
      "\n",
      "Epoch 50\n",
      "Training Loss: 0.5880\n",
      "Train Accuracy: 0.6924\n",
      "Train F1 (macro): 0.6510\n",
      "\n",
      "Val Loss: 0.6044\n",
      "Val Accuracy: 0.6782\n",
      "Val F1 (macro): 0.6459\n",
      "\n"
     ]
    }
   ],
   "source": [
    "train_model(model, train_loader, val_loader, optimizer, device, epochs)"
   ]
  },
  {
   "cell_type": "markdown",
   "id": "198b4b0a",
   "metadata": {},
   "source": [
    "## Testing of model"
   ]
  },
  {
   "cell_type": "code",
   "execution_count": 9,
   "id": "c821845d",
   "metadata": {},
   "outputs": [
    {
     "name": "stdout",
     "output_type": "stream",
     "text": [
      "Test Loss: 0.4985\n",
      "Test Accuracy: 0.7875\n",
      "Test F1 (macro): 0.7128\n",
      "\n"
     ]
    },
    {
     "data": {
      "text/html": [],
      "text/plain": [
       "<IPython.core.display.HTML object>"
      ]
     },
     "metadata": {},
     "output_type": "display_data"
    },
    {
     "data": {
      "text/html": [
       "<br>    <style><br>        .wandb-row {<br>            display: flex;<br>            flex-direction: row;<br>            flex-wrap: wrap;<br>            justify-content: flex-start;<br>            width: 100%;<br>        }<br>        .wandb-col {<br>            display: flex;<br>            flex-direction: column;<br>            flex-basis: 100%;<br>            flex: 1;<br>            padding: 10px;<br>        }<br>    </style><br><div class=\"wandb-row\"><div class=\"wandb-col\"><h3>Run history:</h3><br/><table class=\"wandb\"><tr><td>epoch</td><td>▁▁▁▁▂▂▂▂▂▂▃▃▃▃▃▄▄▄▄▄▅▅▅▅▅▆▆▆▆▆▆▇▇▇▇▇▇███</td></tr><tr><td>test_accuracy</td><td>▁</td></tr><tr><td>test_f1_macro</td><td>▁</td></tr><tr><td>test_f1_weighted</td><td>▁</td></tr><tr><td>test_loss</td><td>▁</td></tr><tr><td>test_precision_macro</td><td>▁</td></tr><tr><td>test_recall_macro</td><td>▁</td></tr><tr><td>train_accuracy</td><td>▁▂▂▃▃▅▅▆▅▆▆▇▆▆▆▆▇▆▇▇▆▇▇▇▇▇▇▇▇▇▇▇▇▇▇▇▇█▇█</td></tr><tr><td>train_f1_macro</td><td>▁▂▃▃▄▅▆▆▇▆▇▇▇▇▇▇▇█▇▇▇▇▇█▇████▇██▇██▇▇███</td></tr><tr><td>train_f1_weighted</td><td>▁▂▃▃▄▅▆▆▇▇▇▇▇▇▇▇▇▇▇▇▇█▇██▇█▇████▇██▇▇███</td></tr><tr><td>train_loss</td><td>▅▄▆▅▆▃▆▄▅▆▅▃▅▃▅█▂▄▂▇▂▃▄▄▆▄▄▄▂▆▃▁▆▅▂▁▅▁▅▃</td></tr><tr><td>train_precision_macro</td><td>▁▃▄▅▆▆▆▆▆▆▆▇▆▆▇▆▆▇▇▇▇▇▇▇█▇▇▇▇▇▇▇▇▇▇▇▇█▇█</td></tr><tr><td>train_recall_macro</td><td>▁▁▂▂▃▅▅▆▆▆▇▇▆▇▇▆▇▆▇▇▇▇▇▇█▇▇▇▇▇▇▇▇██▇▇█▇█</td></tr><tr><td>val_accuracy</td><td>▁▂▂▅▆▄▆▇▆▇▇▇▆▇▇▇▇▇▇█▇▇█▇▇▇▇▇▇▇▇█▇███▇▇██</td></tr><tr><td>val_f1_macro</td><td>▁▃▂▅▇▄▇▇▆▇█▆██▇████▇████████▇▇██▇▇█▇██▇█</td></tr><tr><td>val_f1_weighted</td><td>▁▃▂▅▇▄▇▇▆▇▇███▇█████▇████▇██▇▇██▇▇████▇█</td></tr><tr><td>val_loss</td><td>█▇▆▅▄▃▃▂▂▂▂▂▂▂▁▂▁▁▁▁▁▂▁▁▁▁▁▂▂▁▂▁▁▁▁▁▁▁▁▁</td></tr><tr><td>val_precision_macro</td><td>▁▇████████▇█████████████████████████████</td></tr><tr><td>val_recall_macro</td><td>▁▂▂▄▆▄▆▆▅▇▆▇▅▇▇▇█▇█▇▆████▆▇██▆▆█▇▆▇▇██▇█</td></tr></table><br/></div><div class=\"wandb-col\"><h3>Run summary:</h3><br/><table class=\"wandb\"><tr><td>epoch</td><td>50</td></tr><tr><td>test_accuracy</td><td>0.78751</td></tr><tr><td>test_f1_macro</td><td>0.71282</td></tr><tr><td>test_f1_weighted</td><td>0.78611</td></tr><tr><td>test_loss</td><td>0.4985</td></tr><tr><td>test_precision_macro</td><td>0.71575</td></tr><tr><td>test_recall_macro</td><td>0.71015</td></tr><tr><td>train_accuracy</td><td>0.69238</td></tr><tr><td>train_f1_macro</td><td>0.65103</td></tr><tr><td>train_f1_weighted</td><td>0.67831</td></tr><tr><td>train_loss</td><td>0.54682</td></tr><tr><td>train_precision_macro</td><td>0.67787</td></tr><tr><td>train_recall_macro</td><td>0.64761</td></tr><tr><td>val_accuracy</td><td>0.67825</td></tr><tr><td>val_f1_macro</td><td>0.64586</td></tr><tr><td>val_f1_weighted</td><td>0.67026</td></tr><tr><td>val_loss</td><td>0.60444</td></tr><tr><td>val_precision_macro</td><td>0.65772</td></tr><tr><td>val_recall_macro</td><td>0.64271</td></tr></table><br/></div></div>"
      ],
      "text/plain": [
       "<IPython.core.display.HTML object>"
      ]
     },
     "metadata": {},
     "output_type": "display_data"
    },
    {
     "data": {
      "text/html": [
       " View run <strong style=\"color:#cdcd00\">snowy-microwave-14</strong> at: <a href='https://wandb.ai/natalia-timokhova-v-lule-university-of-technology/roberta-classifier/runs/pn9x3qo0' target=\"_blank\">https://wandb.ai/natalia-timokhova-v-lule-university-of-technology/roberta-classifier/runs/pn9x3qo0</a><br> View project at: <a href='https://wandb.ai/natalia-timokhova-v-lule-university-of-technology/roberta-classifier' target=\"_blank\">https://wandb.ai/natalia-timokhova-v-lule-university-of-technology/roberta-classifier</a><br>Synced 5 W&B file(s), 1 media file(s), 0 artifact file(s) and 0 other file(s)"
      ],
      "text/plain": [
       "<IPython.core.display.HTML object>"
      ]
     },
     "metadata": {},
     "output_type": "display_data"
    },
    {
     "data": {
      "text/html": [
       "Find logs at: <code>./wandb/run-20250509_172756-pn9x3qo0/logs</code>"
      ],
      "text/plain": [
       "<IPython.core.display.HTML object>"
      ]
     },
     "metadata": {},
     "output_type": "display_data"
    },
    {
     "data": {
      "image/png": "[encoded data removed]",
      "text/plain": [
       "<Figure size 600x400 with 2 Axes>"
      ]
     },
     "metadata": {},
     "output_type": "display_data"
    }
   ],
   "source": [
    "test_model(model, test_loader, device, phase = \"test\")"
   ]
  }
 ],
 "metadata": {
  "kernelspec": {
   "display_name": "Python 3 (ipykernel)",
   "language": "python",
   "name": "python3"
  },
  "language_info": {
   "codemirror_mode": {
    "name": "ipython",
    "version": 3
   },
   "file_extension": ".py",
   "mimetype": "text/x-python",
   "name": "python",
   "nbconvert_exporter": "python",
   "pygments_lexer": "ipython3",
   "version": "3.11.11"
  }
 },
 "nbformat": 4,
 "nbformat_minor": 5
}
