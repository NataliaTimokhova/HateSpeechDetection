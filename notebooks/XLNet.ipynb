{
 "cells": [
  {
   "cell_type": "code",
   "execution_count": 64,
   "id": "85864167-a826-415f-9d63-dad9750c4d17",
   "metadata": {},
   "outputs": [],
   "source": [
    "# Core libraries\n",
    "import os, sys, random\n",
    "from pathlib import Path\n",
    "import pandas as pd\n",
    "import numpy as np\n",
    "import torch\n",
    "from torch.utils.data import DataLoader\n",
    "\n",
    "# HF tokenizer only (no Trainer here)\n",
    "from transformers import AutoTokenizer\n",
    "\n",
    "# Sk-learn metrics for confusion matrix later\n",
    "from sklearn.metrics import confusion_matrix\n",
    "import seaborn as sns\n",
    "import matplotlib.pyplot as plt\n",
    "import wandb"
   ]
  },
  {
   "cell_type": "code",
   "execution_count": 65,
   "id": "cd8501c5-1add-413f-acaa-e041b239b612",
   "metadata": {},
   "outputs": [
    {
     "name": "stdout",
     "output_type": "stream",
     "text": [
      "Device: cuda\n"
     ]
    }
   ],
   "source": [
    "# --------------------------------------------------\n",
    "#  Project-specific paths and helper modules\n",
    "# --------------------------------------------------\n",
    "project_dir = Path().resolve().parent          # <repo_root>/\n",
    "src_dir     = project_dir / \"src\"\n",
    "sys.path.append(str(src_dir))\n",
    "\n",
    "try:\n",
    "    from paths import DATA_CLEANED, DATA_PROCESSED\n",
    "except ModuleNotFoundError:\n",
    "    DATA_CLEANED   = project_dir / \"data\" / \"cleaned\"\n",
    "    DATA_PROCESSED = project_dir / \"data\" / \"processed\"\n",
    "\n",
    "# helper_functions & models from your repo\n",
    "from helper_functions import (\n",
    "    HateSpeechDataset,\n",
    "    train_model,\n",
    "    test_model,\n",
    "    get_class_distribution,\n",
    "    oversample_dataset,\n",
    "    undersample_dataset\n",
    ")\n",
    "from models import BaseCNNClassifier\n",
    "\n",
    "device = torch.device(\"cuda\" if torch.cuda.is_available() else \"cpu\")\n",
    "print(\"Device:\", device)"
   ]
  },
  {
   "cell_type": "code",
   "execution_count": 66,
   "id": "201bc5ae-7e83-4293-af03-cfb562b96b05",
   "metadata": {},
   "outputs": [
    {
     "name": "stdout",
     "output_type": "stream",
     "text": [
      "Class distribution: {1: 2513, 0: 1583}\n"
     ]
    }
   ],
   "source": [
    "model_name = \"xlnet-base-cased\"\n",
    "tokenizer   = AutoTokenizer.from_pretrained(model_name)\n",
    "\n",
    "label_col = \"task_1\"\n",
    "\n",
    "# cleaned TSV files\n",
    "train_path = DATA_CLEANED / \"hasoc_2019_en_train_cleaned.tsv\"\n",
    "test_path  = DATA_CLEANED / \"hasoc_2019_en_test_cleaned.tsv\"\n",
    "\n",
    "df_train_full = pd.read_csv(train_path, sep=\"\\t\")\n",
    "df_test       = pd.read_csv(test_path,  sep=\"\\t\")\n",
    "\n",
    "# stratified split 70 / 30\n",
    "from sklearn.model_selection import train_test_split\n",
    "train_df, val_df = train_test_split(\n",
    "    df_train_full,\n",
    "    test_size=0.30,\n",
    "    random_state=42,\n",
    "    stratify=df_train_full[label_col]\n",
    ")\n",
    "\n",
    "# map HOF / NOT → 1 / 0\n",
    "label_list = sorted(train_df[label_col].unique())\n",
    "label_map  = {lab: idx for idx, lab in enumerate(label_list)}\n",
    "for split in (train_df, val_df, df_test):\n",
    "    split[label_col] = split[label_col].map(label_map)\n",
    "\n",
    "print(\"Class distribution:\", get_class_distribution(train_df, label_col))\n"
   ]
  },
  {
   "cell_type": "code",
   "execution_count": 67,
   "id": "589e216b-b258-46be-8d9e-ccc6a60e09ba",
   "metadata": {},
   "outputs": [],
   "source": [
    "imbalance_mode = \"class_weighting\"   # options: 'class_weighting', 'oversampling', 'undersampling'\n",
    "\n",
    "if imbalance_mode == \"oversampling\":\n",
    "    train_df = oversample_dataset(train_df, label_col)\n",
    "elif imbalance_mode == \"undersampling\":\n",
    "    train_df = undersample_dataset(train_df, label_col)\n"
   ]
  },
  {
   "cell_type": "code",
   "execution_count": 68,
   "id": "c6c195df-1184-4c08-b176-1092b4e5cdd6",
   "metadata": {},
   "outputs": [],
   "source": [
    "train_ds = HateSpeechDataset(train_df, tokenizer, label=label_col)\n",
    "val_ds   = HateSpeechDataset(val_df,   tokenizer, label=label_col)\n",
    "test_ds  = HateSpeechDataset(df_test,  tokenizer, label=label_col)\n",
    "\n",
    "train_loader = DataLoader(train_ds, batch_size=16, shuffle=True)\n",
    "val_loader   = DataLoader(val_ds,   batch_size=16)\n",
    "test_loader  = DataLoader(test_ds,  batch_size=32)\n"
   ]
  },
  {
   "cell_type": "code",
   "execution_count": 69,
   "id": "a7193e96-23c4-4ac9-ad07-fcd820fb1d37",
   "metadata": {},
   "outputs": [],
   "source": [
    "from sklearn.utils.class_weight import compute_class_weight\n",
    "\n",
    "class_weights = compute_class_weight(\n",
    "    class_weight=\"balanced\",\n",
    "    classes=np.unique(train_df[label_col]),\n",
    "    y=train_df[label_col]\n",
    ")\n",
    "class_weights_tensor = torch.tensor(class_weights, dtype=torch.float).to(device)\n"
   ]
  },
  {
   "cell_type": "code",
   "execution_count": 72,
   "id": "83228afc-fa09-4687-81f0-db3b06962b5f",
   "metadata": {},
   "outputs": [],
   "source": [
    "# Number of Transformer layers to unfreeze (identical to your old run)\n",
    "unfreeze_last_layers = 2   \n",
    "    \n",
    "# BaseCNNClassifier takes FOUR positional arguments:\n",
    "#   (model_name, class_weights_tensor, device, unfreeze_last_layers)\n",
    "model = BaseCNNClassifier(\n",
    "    model_name,\n",
    "    class_weights_tensor,\n",
    "    device,\n",
    "    unfreeze_last_layers          # ← positional, not a keyword\n",
    ").to(device)\n"
   ]
  },
  {
   "cell_type": "code",
   "execution_count": 79,
   "id": "d3429867-9c06-48cd-b8e4-be490ea434c3",
   "metadata": {
    "scrolled": true
   },
   "outputs": [
    {
     "data": {
      "text/html": [
       "Tracking run with wandb version 0.19.9"
      ],
      "text/plain": [
       "<IPython.core.display.HTML object>"
      ]
     },
     "metadata": {},
     "output_type": "display_data"
    },
    {
     "data": {
      "text/html": [
       "Run data is saved locally in <code>/Project/notebooks/wandb/run-20250520_054117-9xh0izo0</code>"
      ],
      "text/plain": [
       "<IPython.core.display.HTML object>"
      ]
     },
     "metadata": {},
     "output_type": "display_data"
    },
    {
     "data": {
      "text/html": [
       "Syncing run <strong><a href='https://wandb.ai/natalia-timokhova-v-lule-university-of-technology/xlnet-hate-speech/runs/9xh0izo0' target=\"_blank\">feasible-fire-13</a></strong> to <a href='https://wandb.ai/natalia-timokhova-v-lule-university-of-technology/xlnet-hate-speech' target=\"_blank\">Weights & Biases</a> (<a href='https://wandb.me/developer-guide' target=\"_blank\">docs</a>)<br>"
      ],
      "text/plain": [
       "<IPython.core.display.HTML object>"
      ]
     },
     "metadata": {},
     "output_type": "display_data"
    },
    {
     "data": {
      "text/html": [
       " View project at <a href='https://wandb.ai/natalia-timokhova-v-lule-university-of-technology/xlnet-hate-speech' target=\"_blank\">https://wandb.ai/natalia-timokhova-v-lule-university-of-technology/xlnet-hate-speech</a>"
      ],
      "text/plain": [
       "<IPython.core.display.HTML object>"
      ]
     },
     "metadata": {},
     "output_type": "display_data"
    },
    {
     "data": {
      "text/html": [
       " View run at <a href='https://wandb.ai/natalia-timokhova-v-lule-university-of-technology/xlnet-hate-speech/runs/9xh0izo0' target=\"_blank\">https://wandb.ai/natalia-timokhova-v-lule-university-of-technology/xlnet-hate-speech/runs/9xh0izo0</a>"
      ],
      "text/plain": [
       "<IPython.core.display.HTML object>"
      ]
     },
     "metadata": {},
     "output_type": "display_data"
    },
    {
     "name": "stdout",
     "output_type": "stream",
     "text": [
      "\n",
      "Epoch 1\n",
      "Training Loss: 0.5768\n",
      "Train Accuracy: 0.6895\n",
      "Train F1 (macro): 0.6767\n",
      "\n",
      "Val Loss: 0.6592\n",
      "Val Accuracy: 0.6606\n",
      "Val F1 (macro): 0.6446\n",
      "\n",
      "New best model saved (F1: 0.6446, Acc: 0.6606)\n",
      "\n",
      "Epoch 2\n",
      "Training Loss: 0.5662\n",
      "Train Accuracy: 0.7063\n",
      "Train F1 (macro): 0.6896\n",
      "\n",
      "Val Loss: 0.6615\n",
      "Val Accuracy: 0.6617\n",
      "Val F1 (macro): 0.6422\n",
      "\n",
      "\n",
      "Epoch 3\n",
      "Training Loss: 0.5738\n",
      "Train Accuracy: 0.6948\n",
      "Train F1 (macro): 0.6771\n",
      "\n",
      "Val Loss: 0.6647\n",
      "Val Accuracy: 0.6606\n",
      "Val F1 (macro): 0.6396\n",
      "\n",
      "\n",
      "Epoch 4\n",
      "Training Loss: 0.5679\n",
      "Train Accuracy: 0.6956\n",
      "Train F1 (macro): 0.6763\n",
      "\n",
      "Val Loss: 0.6680\n",
      "Val Accuracy: 0.6617\n",
      "Val F1 (macro): 0.6406\n",
      "\n",
      "\n",
      "Epoch 5\n",
      "Training Loss: 0.5642\n",
      "Train Accuracy: 0.7068\n",
      "Train F1 (macro): 0.6869\n",
      "\n",
      "Val Loss: 0.6719\n",
      "Val Accuracy: 0.6623\n",
      "Val F1 (macro): 0.6423\n",
      "\n",
      "\n",
      "Epoch 6\n",
      "Training Loss: 0.5567\n",
      "Train Accuracy: 0.7097\n",
      "Train F1 (macro): 0.6922\n",
      "\n",
      "Val Loss: 0.6739\n",
      "Val Accuracy: 0.6617\n",
      "Val F1 (macro): 0.6424\n",
      "\n",
      "\n",
      "Epoch 7\n",
      "Training Loss: 0.5628\n",
      "Train Accuracy: 0.7021\n",
      "Train F1 (macro): 0.6846\n",
      "\n",
      "Val Loss: 0.6759\n",
      "Val Accuracy: 0.6634\n",
      "Val F1 (macro): 0.6441\n",
      "\n",
      "\n",
      "Epoch 8\n",
      "Training Loss: 0.5585\n",
      "Train Accuracy: 0.7043\n",
      "Train F1 (macro): 0.6872\n",
      "\n",
      "Val Loss: 0.6768\n",
      "Val Accuracy: 0.6634\n",
      "Val F1 (macro): 0.6455\n",
      "\n",
      "New best model saved (F1: 0.6455, Acc: 0.6634)\n",
      "\n",
      "Epoch 9\n",
      "Training Loss: 0.5607\n",
      "Train Accuracy: 0.7053\n",
      "Train F1 (macro): 0.6878\n",
      "\n",
      "Val Loss: 0.6781\n",
      "Val Accuracy: 0.6651\n",
      "Val F1 (macro): 0.6470\n",
      "\n",
      "New best model saved (F1: 0.6470, Acc: 0.6651)\n",
      "\n",
      "Epoch 10\n",
      "Training Loss: 0.5630\n",
      "Train Accuracy: 0.7026\n",
      "Train F1 (macro): 0.6849\n",
      "\n",
      "Val Loss: 0.6789\n",
      "Val Accuracy: 0.6657\n",
      "Val F1 (macro): 0.6479\n",
      "\n",
      "New best model saved (F1: 0.6479, Acc: 0.6657)\n",
      "\n",
      "Epoch 11\n",
      "Training Loss: 0.5683\n",
      "Train Accuracy: 0.6982\n",
      "Train F1 (macro): 0.6812\n",
      "\n",
      "Val Loss: 0.6792\n",
      "Val Accuracy: 0.6634\n",
      "Val F1 (macro): 0.6463\n",
      "\n",
      "\n",
      "Epoch 12\n",
      "Training Loss: 0.5527\n",
      "Train Accuracy: 0.7180\n",
      "Train F1 (macro): 0.7015\n",
      "\n",
      "Val Loss: 0.6815\n",
      "Val Accuracy: 0.6646\n",
      "Val F1 (macro): 0.6475\n",
      "\n",
      "\n",
      "Epoch 13\n",
      "Training Loss: 0.5577\n",
      "Train Accuracy: 0.7083\n",
      "Train F1 (macro): 0.6930\n",
      "\n",
      "Val Loss: 0.6824\n",
      "Val Accuracy: 0.6651\n",
      "Val F1 (macro): 0.6468\n",
      "\n",
      "\n",
      "Epoch 14\n",
      "Training Loss: 0.5588\n",
      "Train Accuracy: 0.7075\n",
      "Train F1 (macro): 0.6899\n",
      "\n",
      "Val Loss: 0.6818\n",
      "Val Accuracy: 0.6646\n",
      "Val F1 (macro): 0.6467\n",
      "\n",
      "\n",
      "Epoch 15\n",
      "Training Loss: 0.5625\n",
      "Train Accuracy: 0.7043\n",
      "Train F1 (macro): 0.6894\n",
      "\n",
      "Val Loss: 0.6831\n",
      "Val Accuracy: 0.6640\n",
      "Val F1 (macro): 0.6456\n",
      "\n",
      "\n",
      "Epoch 16\n",
      "Training Loss: 0.5617\n",
      "Train Accuracy: 0.7004\n",
      "Train F1 (macro): 0.6849\n",
      "\n",
      "Val Loss: 0.6833\n",
      "Val Accuracy: 0.6617\n",
      "Val F1 (macro): 0.6420\n",
      "\n",
      "\n",
      "Epoch 17\n",
      "Training Loss: 0.5553\n",
      "Train Accuracy: 0.7058\n",
      "Train F1 (macro): 0.6901\n",
      "\n",
      "Val Loss: 0.6836\n",
      "Val Accuracy: 0.6623\n",
      "Val F1 (macro): 0.6433\n",
      "\n",
      "\n",
      "Epoch 18\n",
      "Training Loss: 0.5532\n",
      "Train Accuracy: 0.7153\n",
      "Train F1 (macro): 0.6994\n",
      "\n",
      "Val Loss: 0.6848\n",
      "Val Accuracy: 0.6651\n",
      "Val F1 (macro): 0.6468\n",
      "\n",
      "\n",
      "Epoch 19\n",
      "Training Loss: 0.5550\n",
      "Train Accuracy: 0.7068\n",
      "Train F1 (macro): 0.6907\n",
      "\n",
      "Val Loss: 0.6859\n",
      "Val Accuracy: 0.6612\n",
      "Val F1 (macro): 0.6431\n",
      "\n",
      "\n",
      "Epoch 20\n",
      "Training Loss: 0.5520\n",
      "Train Accuracy: 0.7080\n",
      "Train F1 (macro): 0.6907\n",
      "\n",
      "Val Loss: 0.6868\n",
      "Val Accuracy: 0.6623\n",
      "Val F1 (macro): 0.6433\n",
      "\n",
      "Test Loss: 0.6348\n",
      "Test Accuracy: 0.6982\n",
      "Test F1 (macro): 0.6512\n",
      "\n"
     ]
    },
    {
     "data": {
      "text/html": [],
      "text/plain": [
       "<IPython.core.display.HTML object>"
      ]
     },
     "metadata": {},
     "output_type": "display_data"
    },
    {
     "data": {
      "text/html": [
       "<br>    <style><br>        .wandb-row {<br>            display: flex;<br>            flex-direction: row;<br>            flex-wrap: wrap;<br>            justify-content: flex-start;<br>            width: 100%;<br>        }<br>        .wandb-col {<br>            display: flex;<br>            flex-direction: column;<br>            flex-basis: 100%;<br>            flex: 1;<br>            padding: 10px;<br>        }<br>    </style><br><div class=\"wandb-row\"><div class=\"wandb-col\"><h3>Run history:</h3><br/><table class=\"wandb\"><tr><td>current_lr</td><td>▁▁▁▁▁▁▁▁▁▁▁▁▁▁▁▁▁▁▁▁</td></tr><tr><td>epoch</td><td>▁▁▂▂▂▃▃▄▄▄▅▅▅▆▆▇▇▇██</td></tr><tr><td>test_accuracy</td><td>▁</td></tr><tr><td>test_f1_macro</td><td>▁</td></tr><tr><td>test_f1_weighted</td><td>▁</td></tr><tr><td>test_loss</td><td>▁</td></tr><tr><td>test_precision_macro</td><td>▁</td></tr><tr><td>test_recall_macro</td><td>▁</td></tr><tr><td>train_accuracy</td><td>▁▅▂▂▅▆▄▅▅▄▃█▆▅▅▄▅▇▅▆</td></tr><tr><td>train_f1_macro</td><td>▁▅▁▁▄▅▃▄▄▃▂█▆▅▅▃▅▇▅▅</td></tr><tr><td>train_f1_weighted</td><td>▁▅▂▂▅▆▄▄▅▄▃█▆▅▅▄▅▇▅▅</td></tr><tr><td>train_loss</td><td>█▅▇▅▄▂▄▃▃▄▆▁▃▃▄▄▂▁▂▁</td></tr><tr><td>train_precision_macro</td><td>▁▅▂▂▅▆▄▄▄▄▃█▅▅▄▃▅▇▅▅</td></tr><tr><td>train_recall_macro</td><td>▂▅▁▁▄▅▃▄▄▃▃█▆▅▅▄▅█▅▅</td></tr><tr><td>val_accuracy</td><td>▁▃▁▃▃▃▅▅▇█▅▆▇▆▆▃▃▇▂▃</td></tr><tr><td>val_f1_macro</td><td>▅▃▁▂▃▃▅▆▇█▇█▇▇▆▃▄▇▄▄</td></tr><tr><td>val_f1_weighted</td><td>▄▃▁▂▃▃▅▆▇█▆▇▇▇▆▃▄▇▃▄</td></tr><tr><td>val_loss</td><td>▁▂▂▃▄▅▅▅▆▆▆▇▇▇▇▇▇███</td></tr><tr><td>val_precision_macro</td><td>▄▃▁▂▃▃▅▆▇█▆▇▇▇▆▃▄▇▃▄</td></tr><tr><td>val_recall_macro</td><td>▆▃▁▂▃▄▅▆▇█▇█▇▇▆▃▄▇▄▄</td></tr></table><br/></div><div class=\"wandb-col\"><h3>Run summary:</h3><br/><table class=\"wandb\"><tr><td>current_lr</td><td>2e-05</td></tr><tr><td>epoch</td><td>20</td></tr><tr><td>scheduler</td><td></td></tr><tr><td>test_accuracy</td><td>0.69818</td></tr><tr><td>test_f1_macro</td><td>0.65124</td></tr><tr><td>test_f1_weighted</td><td>0.71527</td></tr><tr><td>test_loss</td><td>0.63485</td></tr><tr><td>test_precision_macro</td><td>0.64785</td></tr><tr><td>test_recall_macro</td><td>0.68651</td></tr><tr><td>train_accuracy</td><td>0.70801</td></tr><tr><td>train_f1_macro</td><td>0.69066</td></tr><tr><td>train_f1_weighted</td><td>0.70729</td></tr><tr><td>train_loss</td><td>0.55199</td></tr><tr><td>train_precision_macro</td><td>0.69167</td></tr><tr><td>train_recall_macro</td><td>0.6898</td></tr><tr><td>val_accuracy</td><td>0.6623</td></tr><tr><td>val_f1_macro</td><td>0.64333</td></tr><tr><td>val_f1_weighted</td><td>0.66207</td></tr><tr><td>val_loss</td><td>0.68676</td></tr><tr><td>val_precision_macro</td><td>0.64353</td></tr><tr><td>val_recall_macro</td><td>0.64313</td></tr></table><br/></div></div>"
      ],
      "text/plain": [
       "<IPython.core.display.HTML object>"
      ]
     },
     "metadata": {},
     "output_type": "display_data"
    },
    {
     "data": {
      "text/html": [
       " View run <strong style=\"color:#cdcd00\">feasible-fire-13</strong> at: <a href='https://wandb.ai/natalia-timokhova-v-lule-university-of-technology/xlnet-hate-speech/runs/9xh0izo0' target=\"_blank\">https://wandb.ai/natalia-timokhova-v-lule-university-of-technology/xlnet-hate-speech/runs/9xh0izo0</a><br> View project at: <a href='https://wandb.ai/natalia-timokhova-v-lule-university-of-technology/xlnet-hate-speech' target=\"_blank\">https://wandb.ai/natalia-timokhova-v-lule-university-of-technology/xlnet-hate-speech</a><br>Synced 5 W&B file(s), 1 media file(s), 0 artifact file(s) and 0 other file(s)"
      ],
      "text/plain": [
       "<IPython.core.display.HTML object>"
      ]
     },
     "metadata": {},
     "output_type": "display_data"
    },
    {
     "data": {
      "text/html": [
       "Find logs at: <code>./wandb/run-20250520_054117-9xh0izo0/logs</code>"
      ],
      "text/plain": [
       "<IPython.core.display.HTML object>"
      ]
     },
     "metadata": {},
     "output_type": "display_data"
    },
    {
     "name": "stdout",
     "output_type": "stream",
     "text": [
      "Final test metrics: {'f1': 0.6512377442458799, 'accuracy': 0.6981786643538594}\n"
     ]
    },
    {
     "data": {
      "image/png": "[encoded data removed]",
      "text/plain": [
       "<Figure size 600x400 with 2 Axes>"
      ]
     },
     "metadata": {},
     "output_type": "display_data"
    }
   ],
   "source": [
    "import wandb\n",
    "\n",
    "learning_rate = 0.00002                          # same LR you used before\n",
    "epochs        = 20\n",
    "\n",
    "# Optimizer on the classifier head (exactly as earlier)\n",
    "optimizer = torch.optim.AdamW(model.classifier.parameters(), lr=learning_rate)\n",
    "\n",
    "# ── Weights & Biases run ──────────────────────────────────────────\n",
    "wandb.init(\n",
    "    project = \"xlnet-hate-speech\",\n",
    "    config  = dict(\n",
    "        model_name      = model_name,\n",
    "        unfrozen_layers = unfreeze_last_layers,\n",
    "        epochs          = epochs,\n",
    "        lr              = learning_rate,\n",
    "        imbalance_mode  = imbalance_mode\n",
    "    )\n",
    ")\n",
    "\n",
    "# train_model signature:\n",
    "# train_model(model, train_loader, test_loader, optimizer, device, epochs, best_model_path, scheduler=False)\n",
    "\n",
    "train_model(\n",
    "    model,\n",
    "    train_loader,      # training batches\n",
    "    val_loader,        # validation batches inside the helper act as \"test_loader\"\n",
    "    optimizer,\n",
    "    device,\n",
    "    epochs,\n",
    "    \"best_xlnet.pt\"    # checkpoint file\n",
    ")\n",
    "\n",
    "# Load the best checkpoint\n",
    "model.load_state_dict(torch.load(\"best_xlnet.pt\", weights_only=True))\n",
    "\n",
    "# Final evaluation on the held-out test set\n",
    "test_metrics = test_model(model, test_loader, device, phase=\"test\")\n",
    "print(\"Final test metrics:\", test_metrics)\n",
    "\n",
    "# ── CLOSE the W&B run ────────────────────────────────────────────────\n",
    "import wandb\n",
    "wandb.finish()          # <— this line explicitly ends the run"
   ]
  },
  {
   "cell_type": "code",
   "execution_count": null,
   "id": "3cac9ef9-1e3c-4744-b30c-18374c0cdb08",
   "metadata": {},
   "outputs": [],
   "source": []
  }
 ],
 "metadata": {
  "kernelspec": {
   "display_name": "Python 3 (ipykernel)",
   "language": "python",
   "name": "python3"
  },
  "language_info": {
   "codemirror_mode": {
    "name": "ipython",
    "version": 3
   },
   "file_extension": ".py",
   "mimetype": "text/x-python",
   "name": "python",
   "nbconvert_exporter": "python",
   "pygments_lexer": "ipython3",
   "version": "3.11.11"
  }
 },
 "nbformat": 4,
 "nbformat_minor": 5
}
